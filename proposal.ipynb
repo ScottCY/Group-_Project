{
 "cells": [
  {
   "cell_type": "code",
   "execution_count": 1,
   "metadata": {},
   "outputs": [
    {
     "name": "stderr",
     "output_type": "stream",
     "text": [
      "── \u001b[1mAttaching packages\u001b[22m ─────────────────────────────────────── tidyverse 1.3.0 ──\n",
      "\n",
      "\u001b[32m✔\u001b[39m \u001b[34mggplot2\u001b[39m 3.3.2     \u001b[32m✔\u001b[39m \u001b[34mpurrr  \u001b[39m 0.3.4\n",
      "\u001b[32m✔\u001b[39m \u001b[34mtibble \u001b[39m 3.0.3     \u001b[32m✔\u001b[39m \u001b[34mdplyr  \u001b[39m 1.0.2\n",
      "\u001b[32m✔\u001b[39m \u001b[34mtidyr  \u001b[39m 1.1.2     \u001b[32m✔\u001b[39m \u001b[34mstringr\u001b[39m 1.4.0\n",
      "\u001b[32m✔\u001b[39m \u001b[34mreadr  \u001b[39m 1.3.1     \u001b[32m✔\u001b[39m \u001b[34mforcats\u001b[39m 0.5.0\n",
      "\n",
      "Warning message:\n",
      "“package ‘ggplot2’ was built under R version 4.0.1”\n",
      "Warning message:\n",
      "“package ‘tibble’ was built under R version 4.0.2”\n",
      "Warning message:\n",
      "“package ‘tidyr’ was built under R version 4.0.2”\n",
      "Warning message:\n",
      "“package ‘dplyr’ was built under R version 4.0.2”\n",
      "── \u001b[1mConflicts\u001b[22m ────────────────────────────────────────── tidyverse_conflicts() ──\n",
      "\u001b[31m✖\u001b[39m \u001b[34mdplyr\u001b[39m::\u001b[32mfilter()\u001b[39m masks \u001b[34mstats\u001b[39m::filter()\n",
      "\u001b[31m✖\u001b[39m \u001b[34mdplyr\u001b[39m::\u001b[32mlag()\u001b[39m    masks \u001b[34mstats\u001b[39m::lag()\n",
      "\n"
     ]
    }
   ],
   "source": [
    "#this is a new file\n",
    "# test test test\n",
    "library(tidyverse)"
   ]
  },
  {
   "cell_type": "markdown",
   "metadata": {},
   "source": [
    "### Section 2: Preliminary exploratory data analysis\n"
   ]
  },
  {
   "cell_type": "markdown",
   "metadata": {},
   "source": [
    "* Reading Data into R"
   ]
  },
  {
   "cell_type": "code",
   "execution_count": 35,
   "metadata": {},
   "outputs": [
    {
     "name": "stderr",
     "output_type": "stream",
     "text": [
      "Parsed with column specification:\n",
      "cols(\n",
      "  `Mean of the integrated profile` = \u001b[32mcol_double()\u001b[39m,\n",
      "  `Standard deviation of the integrated profile` = \u001b[32mcol_double()\u001b[39m,\n",
      "  `Excess kurtosis of the integrated profile` = \u001b[32mcol_double()\u001b[39m,\n",
      "  `Skewness of the integrated profile` = \u001b[32mcol_double()\u001b[39m,\n",
      "  `Mean of the DM-SNR curve` = \u001b[32mcol_double()\u001b[39m,\n",
      "  `Standard deviation of the DM-SNR curve` = \u001b[32mcol_double()\u001b[39m,\n",
      "  `Excess kurtosis of the DM-SNR curve` = \u001b[32mcol_double()\u001b[39m,\n",
      "  `Skewness of the DM-SNR curve` = \u001b[32mcol_double()\u001b[39m,\n",
      "  target_class = \u001b[32mcol_double()\u001b[39m\n",
      ")\n",
      "\n"
     ]
    },
    {
     "data": {
      "text/html": [
       "<table>\n",
       "<caption>A tibble: 6 × 9</caption>\n",
       "<thead>\n",
       "\t<tr><th scope=col>Mean of the integrated profile</th><th scope=col>Standard deviation of the integrated profile</th><th scope=col>Excess kurtosis of the integrated profile</th><th scope=col>Skewness of the integrated profile</th><th scope=col>Mean of the DM-SNR curve</th><th scope=col>Standard deviation of the DM-SNR curve</th><th scope=col>Excess kurtosis of the DM-SNR curve</th><th scope=col>Skewness of the DM-SNR curve</th><th scope=col>target_class</th></tr>\n",
       "\t<tr><th scope=col>&lt;dbl&gt;</th><th scope=col>&lt;dbl&gt;</th><th scope=col>&lt;dbl&gt;</th><th scope=col>&lt;dbl&gt;</th><th scope=col>&lt;dbl&gt;</th><th scope=col>&lt;dbl&gt;</th><th scope=col>&lt;dbl&gt;</th><th scope=col>&lt;dbl&gt;</th><th scope=col>&lt;dbl&gt;</th></tr>\n",
       "</thead>\n",
       "<tbody>\n",
       "\t<tr><td>121.15625</td><td>48.37297</td><td> 0.3754847</td><td>-0.01316549</td><td> 3.168896</td><td>18.39937</td><td>7.449874</td><td> 65.159298</td><td>0</td></tr>\n",
       "\t<tr><td> 76.96875</td><td>36.17556</td><td> 0.7128979</td><td> 3.38871856</td><td> 2.399666</td><td>17.57100</td><td>9.414652</td><td>102.722975</td><td>0</td></tr>\n",
       "\t<tr><td>130.58594</td><td>53.22953</td><td> 0.1334083</td><td>-0.29724164</td><td> 2.743311</td><td>22.36255</td><td>8.508364</td><td> 74.031324</td><td>0</td></tr>\n",
       "\t<tr><td>156.39844</td><td>48.86594</td><td>-0.2159886</td><td>-0.17129365</td><td>17.471572</td><td>      NA</td><td>2.958066</td><td>  7.197842</td><td>0</td></tr>\n",
       "\t<tr><td> 84.80469</td><td>36.11766</td><td> 0.8250128</td><td> 3.27412537</td><td> 2.790134</td><td>20.61801</td><td>8.405008</td><td> 76.291128</td><td>0</td></tr>\n",
       "\t<tr><td>121.00781</td><td>47.17694</td><td> 0.2297081</td><td> 0.09133623</td><td> 2.036789</td><td>      NA</td><td>9.546051</td><td>112.131721</td><td>0</td></tr>\n",
       "</tbody>\n",
       "</table>\n"
      ],
      "text/latex": [
       "A tibble: 6 × 9\n",
       "\\begin{tabular}{lllllllll}\n",
       " Mean of the integrated profile & Standard deviation of the integrated profile & Excess kurtosis of the integrated profile & Skewness of the integrated profile & Mean of the DM-SNR curve & Standard deviation of the DM-SNR curve & Excess kurtosis of the DM-SNR curve & Skewness of the DM-SNR curve & target\\_class\\\\\n",
       " <dbl> & <dbl> & <dbl> & <dbl> & <dbl> & <dbl> & <dbl> & <dbl> & <dbl>\\\\\n",
       "\\hline\n",
       "\t 121.15625 & 48.37297 &  0.3754847 & -0.01316549 &  3.168896 & 18.39937 & 7.449874 &  65.159298 & 0\\\\\n",
       "\t  76.96875 & 36.17556 &  0.7128979 &  3.38871856 &  2.399666 & 17.57100 & 9.414652 & 102.722975 & 0\\\\\n",
       "\t 130.58594 & 53.22953 &  0.1334083 & -0.29724164 &  2.743311 & 22.36255 & 8.508364 &  74.031324 & 0\\\\\n",
       "\t 156.39844 & 48.86594 & -0.2159886 & -0.17129365 & 17.471572 &       NA & 2.958066 &   7.197842 & 0\\\\\n",
       "\t  84.80469 & 36.11766 &  0.8250128 &  3.27412537 &  2.790134 & 20.61801 & 8.405008 &  76.291128 & 0\\\\\n",
       "\t 121.00781 & 47.17694 &  0.2297081 &  0.09133623 &  2.036789 &       NA & 9.546051 & 112.131721 & 0\\\\\n",
       "\\end{tabular}\n"
      ],
      "text/markdown": [
       "\n",
       "A tibble: 6 × 9\n",
       "\n",
       "| Mean of the integrated profile &lt;dbl&gt; | Standard deviation of the integrated profile &lt;dbl&gt; | Excess kurtosis of the integrated profile &lt;dbl&gt; | Skewness of the integrated profile &lt;dbl&gt; | Mean of the DM-SNR curve &lt;dbl&gt; | Standard deviation of the DM-SNR curve &lt;dbl&gt; | Excess kurtosis of the DM-SNR curve &lt;dbl&gt; | Skewness of the DM-SNR curve &lt;dbl&gt; | target_class &lt;dbl&gt; |\n",
       "|---|---|---|---|---|---|---|---|---|\n",
       "| 121.15625 | 48.37297 |  0.3754847 | -0.01316549 |  3.168896 | 18.39937 | 7.449874 |  65.159298 | 0 |\n",
       "|  76.96875 | 36.17556 |  0.7128979 |  3.38871856 |  2.399666 | 17.57100 | 9.414652 | 102.722975 | 0 |\n",
       "| 130.58594 | 53.22953 |  0.1334083 | -0.29724164 |  2.743311 | 22.36255 | 8.508364 |  74.031324 | 0 |\n",
       "| 156.39844 | 48.86594 | -0.2159886 | -0.17129365 | 17.471572 |       NA | 2.958066 |   7.197842 | 0 |\n",
       "|  84.80469 | 36.11766 |  0.8250128 |  3.27412537 |  2.790134 | 20.61801 | 8.405008 |  76.291128 | 0 |\n",
       "| 121.00781 | 47.17694 |  0.2297081 |  0.09133623 |  2.036789 |       NA | 9.546051 | 112.131721 | 0 |\n",
       "\n"
      ],
      "text/plain": [
       "  Mean of the integrated profile Standard deviation of the integrated profile\n",
       "1 121.15625                      48.37297                                    \n",
       "2  76.96875                      36.17556                                    \n",
       "3 130.58594                      53.22953                                    \n",
       "4 156.39844                      48.86594                                    \n",
       "5  84.80469                      36.11766                                    \n",
       "6 121.00781                      47.17694                                    \n",
       "  Excess kurtosis of the integrated profile Skewness of the integrated profile\n",
       "1  0.3754847                                -0.01316549                       \n",
       "2  0.7128979                                 3.38871856                       \n",
       "3  0.1334083                                -0.29724164                       \n",
       "4 -0.2159886                                -0.17129365                       \n",
       "5  0.8250128                                 3.27412537                       \n",
       "6  0.2297081                                 0.09133623                       \n",
       "  Mean of the DM-SNR curve Standard deviation of the DM-SNR curve\n",
       "1  3.168896                18.39937                              \n",
       "2  2.399666                17.57100                              \n",
       "3  2.743311                22.36255                              \n",
       "4 17.471572                      NA                              \n",
       "5  2.790134                20.61801                              \n",
       "6  2.036789                      NA                              \n",
       "  Excess kurtosis of the DM-SNR curve Skewness of the DM-SNR curve target_class\n",
       "1 7.449874                             65.159298                   0           \n",
       "2 9.414652                            102.722975                   0           \n",
       "3 8.508364                             74.031324                   0           \n",
       "4 2.958066                              7.197842                   0           \n",
       "5 8.405008                             76.291128                   0           \n",
       "6 9.546051                            112.131721                   0           "
      ]
     },
     "metadata": {},
     "output_type": "display_data"
    },
    {
     "name": "stderr",
     "output_type": "stream",
     "text": [
      "Parsed with column specification:\n",
      "cols(\n",
      "  `Mean of the integrated profile` = \u001b[32mcol_double()\u001b[39m,\n",
      "  `Standard deviation of the integrated profile` = \u001b[32mcol_double()\u001b[39m,\n",
      "  `Excess kurtosis of the integrated profile` = \u001b[32mcol_double()\u001b[39m,\n",
      "  `Skewness of the integrated profile` = \u001b[32mcol_double()\u001b[39m,\n",
      "  `Mean of the DM-SNR curve` = \u001b[32mcol_double()\u001b[39m,\n",
      "  `Standard deviation of the DM-SNR curve` = \u001b[32mcol_double()\u001b[39m,\n",
      "  `Excess kurtosis of the DM-SNR curve` = \u001b[32mcol_double()\u001b[39m,\n",
      "  `Skewness of the DM-SNR curve` = \u001b[32mcol_double()\u001b[39m,\n",
      "  target_class = \u001b[33mcol_logical()\u001b[39m\n",
      ")\n",
      "\n"
     ]
    },
    {
     "data": {
      "text/html": [
       "<table>\n",
       "<caption>A tibble: 6 × 9</caption>\n",
       "<thead>\n",
       "\t<tr><th scope=col>Mean of the integrated profile</th><th scope=col>Standard deviation of the integrated profile</th><th scope=col>Excess kurtosis of the integrated profile</th><th scope=col>Skewness of the integrated profile</th><th scope=col>Mean of the DM-SNR curve</th><th scope=col>Standard deviation of the DM-SNR curve</th><th scope=col>Excess kurtosis of the DM-SNR curve</th><th scope=col>Skewness of the DM-SNR curve</th><th scope=col>target_class</th></tr>\n",
       "\t<tr><th scope=col>&lt;dbl&gt;</th><th scope=col>&lt;dbl&gt;</th><th scope=col>&lt;dbl&gt;</th><th scope=col>&lt;dbl&gt;</th><th scope=col>&lt;dbl&gt;</th><th scope=col>&lt;dbl&gt;</th><th scope=col>&lt;dbl&gt;</th><th scope=col>&lt;dbl&gt;</th><th scope=col>&lt;lgl&gt;</th></tr>\n",
       "</thead>\n",
       "<tbody>\n",
       "\t<tr><td>116.90625</td><td>48.92060</td><td>0.1860463</td><td>-0.1298151</td><td> 3.037625</td><td>17.73710</td><td>8.1226208</td><td> 78.813405</td><td>NA</td></tr>\n",
       "\t<tr><td> 75.58594</td><td>34.38625</td><td>2.0254984</td><td> 8.6529130</td><td> 3.765050</td><td>21.89705</td><td>7.0481886</td><td> 55.878791</td><td>NA</td></tr>\n",
       "\t<tr><td>103.27344</td><td>46.99663</td><td>0.5042952</td><td> 0.8210883</td><td> 2.244983</td><td>15.62257</td><td>9.3304985</td><td>105.134942</td><td>NA</td></tr>\n",
       "\t<tr><td>101.07812</td><td>48.58749</td><td>1.0114270</td><td> 1.1518699</td><td>81.887960</td><td>81.46414</td><td>0.4851051</td><td> -1.117904</td><td>NA</td></tr>\n",
       "\t<tr><td>113.22656</td><td>48.60880</td><td>0.2915380</td><td> 0.2921203</td><td> 6.291806</td><td>26.58506</td><td>4.5401376</td><td> 21.708268</td><td>NA</td></tr>\n",
       "\t<tr><td> 85.47656</td><td>38.05279</td><td>       NA</td><td> 1.9150973</td><td> 2.637124</td><td>      NA</td><td>9.0015001</td><td>        NA</td><td>NA</td></tr>\n",
       "</tbody>\n",
       "</table>\n"
      ],
      "text/latex": [
       "A tibble: 6 × 9\n",
       "\\begin{tabular}{lllllllll}\n",
       " Mean of the integrated profile & Standard deviation of the integrated profile & Excess kurtosis of the integrated profile & Skewness of the integrated profile & Mean of the DM-SNR curve & Standard deviation of the DM-SNR curve & Excess kurtosis of the DM-SNR curve & Skewness of the DM-SNR curve & target\\_class\\\\\n",
       " <dbl> & <dbl> & <dbl> & <dbl> & <dbl> & <dbl> & <dbl> & <dbl> & <lgl>\\\\\n",
       "\\hline\n",
       "\t 116.90625 & 48.92060 & 0.1860463 & -0.1298151 &  3.037625 & 17.73710 & 8.1226208 &  78.813405 & NA\\\\\n",
       "\t  75.58594 & 34.38625 & 2.0254984 &  8.6529130 &  3.765050 & 21.89705 & 7.0481886 &  55.878791 & NA\\\\\n",
       "\t 103.27344 & 46.99663 & 0.5042952 &  0.8210883 &  2.244983 & 15.62257 & 9.3304985 & 105.134942 & NA\\\\\n",
       "\t 101.07812 & 48.58749 & 1.0114270 &  1.1518699 & 81.887960 & 81.46414 & 0.4851051 &  -1.117904 & NA\\\\\n",
       "\t 113.22656 & 48.60880 & 0.2915380 &  0.2921203 &  6.291806 & 26.58506 & 4.5401376 &  21.708268 & NA\\\\\n",
       "\t  85.47656 & 38.05279 &        NA &  1.9150973 &  2.637124 &       NA & 9.0015001 &         NA & NA\\\\\n",
       "\\end{tabular}\n"
      ],
      "text/markdown": [
       "\n",
       "A tibble: 6 × 9\n",
       "\n",
       "| Mean of the integrated profile &lt;dbl&gt; | Standard deviation of the integrated profile &lt;dbl&gt; | Excess kurtosis of the integrated profile &lt;dbl&gt; | Skewness of the integrated profile &lt;dbl&gt; | Mean of the DM-SNR curve &lt;dbl&gt; | Standard deviation of the DM-SNR curve &lt;dbl&gt; | Excess kurtosis of the DM-SNR curve &lt;dbl&gt; | Skewness of the DM-SNR curve &lt;dbl&gt; | target_class &lt;lgl&gt; |\n",
       "|---|---|---|---|---|---|---|---|---|\n",
       "| 116.90625 | 48.92060 | 0.1860463 | -0.1298151 |  3.037625 | 17.73710 | 8.1226208 |  78.813405 | NA |\n",
       "|  75.58594 | 34.38625 | 2.0254984 |  8.6529130 |  3.765050 | 21.89705 | 7.0481886 |  55.878791 | NA |\n",
       "| 103.27344 | 46.99663 | 0.5042952 |  0.8210883 |  2.244983 | 15.62257 | 9.3304985 | 105.134942 | NA |\n",
       "| 101.07812 | 48.58749 | 1.0114270 |  1.1518699 | 81.887960 | 81.46414 | 0.4851051 |  -1.117904 | NA |\n",
       "| 113.22656 | 48.60880 | 0.2915380 |  0.2921203 |  6.291806 | 26.58506 | 4.5401376 |  21.708268 | NA |\n",
       "|  85.47656 | 38.05279 |        NA |  1.9150973 |  2.637124 |       NA | 9.0015001 |         NA | NA |\n",
       "\n"
      ],
      "text/plain": [
       "  Mean of the integrated profile Standard deviation of the integrated profile\n",
       "1 116.90625                      48.92060                                    \n",
       "2  75.58594                      34.38625                                    \n",
       "3 103.27344                      46.99663                                    \n",
       "4 101.07812                      48.58749                                    \n",
       "5 113.22656                      48.60880                                    \n",
       "6  85.47656                      38.05279                                    \n",
       "  Excess kurtosis of the integrated profile Skewness of the integrated profile\n",
       "1 0.1860463                                 -0.1298151                        \n",
       "2 2.0254984                                  8.6529130                        \n",
       "3 0.5042952                                  0.8210883                        \n",
       "4 1.0114270                                  1.1518699                        \n",
       "5 0.2915380                                  0.2921203                        \n",
       "6        NA                                  1.9150973                        \n",
       "  Mean of the DM-SNR curve Standard deviation of the DM-SNR curve\n",
       "1  3.037625                17.73710                              \n",
       "2  3.765050                21.89705                              \n",
       "3  2.244983                15.62257                              \n",
       "4 81.887960                81.46414                              \n",
       "5  6.291806                26.58506                              \n",
       "6  2.637124                      NA                              \n",
       "  Excess kurtosis of the DM-SNR curve Skewness of the DM-SNR curve target_class\n",
       "1 8.1226208                            78.813405                   NA          \n",
       "2 7.0481886                            55.878791                   NA          \n",
       "3 9.3304985                           105.134942                   NA          \n",
       "4 0.4851051                            -1.117904                   NA          \n",
       "5 4.5401376                            21.708268                   NA          \n",
       "6 9.0015001                                   NA                   NA          "
      ]
     },
     "metadata": {},
     "output_type": "display_data"
    }
   ],
   "source": [
    "names = c(\"integrated_mean\", \"integrated_standard_deviation\", \"integrated_kurtosis\", \"integrated_skewness\", \"curve_mean\", \"curve_standard_deviation\", \"curve_kurtosis\", \"curve_skewness\", \"class\")\n",
    "pulsar_train <- read_csv(\"pulsar_data_train.csv\")\n",
    "head(pulsar_train)\n",
    "pulsar_test <- read_csv(\"pulsar_data_test.csv\")\n",
    "head(pulsar_test)\n"
   ]
  },
  {
   "cell_type": "markdown",
   "metadata": {},
   "source": [
    "* Tidy Format"
   ]
  },
  {
   "cell_type": "markdown",
   "metadata": {},
   "source": [
    "By looking at the data itself, it is already a tidy format since each row represents one observation, each column is a single variable and each value is in a single cell. But to make the data more concise and readable, we choose to rename the column names to make it stay in a single line. "
   ]
  },
  {
   "cell_type": "code",
   "execution_count": 39,
   "metadata": {},
   "outputs": [
    {
     "data": {
      "text/html": [
       "<table>\n",
       "<caption>A tibble: 6 × 9</caption>\n",
       "<thead>\n",
       "\t<tr><th scope=col>integrated_profile_mean</th><th scope=col>integrated_profile_standard_deviation</th><th scope=col>integrated_profile_kurtosis</th><th scope=col>integrated_profile_skewness</th><th scope=col>DMSNR_curve_mean</th><th scope=col>DMSNR_curve_standard_deviation</th><th scope=col>DMSNR_curve_kurtosis</th><th scope=col>DMSNR_curve_skewness</th><th scope=col>target_class</th></tr>\n",
       "\t<tr><th scope=col>&lt;dbl&gt;</th><th scope=col>&lt;dbl&gt;</th><th scope=col>&lt;dbl&gt;</th><th scope=col>&lt;dbl&gt;</th><th scope=col>&lt;dbl&gt;</th><th scope=col>&lt;dbl&gt;</th><th scope=col>&lt;dbl&gt;</th><th scope=col>&lt;dbl&gt;</th><th scope=col>&lt;dbl&gt;</th></tr>\n",
       "</thead>\n",
       "<tbody>\n",
       "\t<tr><td>121.15625</td><td>48.37297</td><td> 0.3754847</td><td>-0.01316549</td><td> 3.168896</td><td>18.39937</td><td>7.449874</td><td> 65.159298</td><td>0</td></tr>\n",
       "\t<tr><td> 76.96875</td><td>36.17556</td><td> 0.7128979</td><td> 3.38871856</td><td> 2.399666</td><td>17.57100</td><td>9.414652</td><td>102.722975</td><td>0</td></tr>\n",
       "\t<tr><td>130.58594</td><td>53.22953</td><td> 0.1334083</td><td>-0.29724164</td><td> 2.743311</td><td>22.36255</td><td>8.508364</td><td> 74.031324</td><td>0</td></tr>\n",
       "\t<tr><td>156.39844</td><td>48.86594</td><td>-0.2159886</td><td>-0.17129365</td><td>17.471572</td><td>      NA</td><td>2.958066</td><td>  7.197842</td><td>0</td></tr>\n",
       "\t<tr><td> 84.80469</td><td>36.11766</td><td> 0.8250128</td><td> 3.27412537</td><td> 2.790134</td><td>20.61801</td><td>8.405008</td><td> 76.291128</td><td>0</td></tr>\n",
       "\t<tr><td>121.00781</td><td>47.17694</td><td> 0.2297081</td><td> 0.09133623</td><td> 2.036789</td><td>      NA</td><td>9.546051</td><td>112.131721</td><td>0</td></tr>\n",
       "</tbody>\n",
       "</table>\n"
      ],
      "text/latex": [
       "A tibble: 6 × 9\n",
       "\\begin{tabular}{lllllllll}\n",
       " integrated\\_profile\\_mean & integrated\\_profile\\_standard\\_deviation & integrated\\_profile\\_kurtosis & integrated\\_profile\\_skewness & DMSNR\\_curve\\_mean & DMSNR\\_curve\\_standard\\_deviation & DMSNR\\_curve\\_kurtosis & DMSNR\\_curve\\_skewness & target\\_class\\\\\n",
       " <dbl> & <dbl> & <dbl> & <dbl> & <dbl> & <dbl> & <dbl> & <dbl> & <dbl>\\\\\n",
       "\\hline\n",
       "\t 121.15625 & 48.37297 &  0.3754847 & -0.01316549 &  3.168896 & 18.39937 & 7.449874 &  65.159298 & 0\\\\\n",
       "\t  76.96875 & 36.17556 &  0.7128979 &  3.38871856 &  2.399666 & 17.57100 & 9.414652 & 102.722975 & 0\\\\\n",
       "\t 130.58594 & 53.22953 &  0.1334083 & -0.29724164 &  2.743311 & 22.36255 & 8.508364 &  74.031324 & 0\\\\\n",
       "\t 156.39844 & 48.86594 & -0.2159886 & -0.17129365 & 17.471572 &       NA & 2.958066 &   7.197842 & 0\\\\\n",
       "\t  84.80469 & 36.11766 &  0.8250128 &  3.27412537 &  2.790134 & 20.61801 & 8.405008 &  76.291128 & 0\\\\\n",
       "\t 121.00781 & 47.17694 &  0.2297081 &  0.09133623 &  2.036789 &       NA & 9.546051 & 112.131721 & 0\\\\\n",
       "\\end{tabular}\n"
      ],
      "text/markdown": [
       "\n",
       "A tibble: 6 × 9\n",
       "\n",
       "| integrated_profile_mean &lt;dbl&gt; | integrated_profile_standard_deviation &lt;dbl&gt; | integrated_profile_kurtosis &lt;dbl&gt; | integrated_profile_skewness &lt;dbl&gt; | DMSNR_curve_mean &lt;dbl&gt; | DMSNR_curve_standard_deviation &lt;dbl&gt; | DMSNR_curve_kurtosis &lt;dbl&gt; | DMSNR_curve_skewness &lt;dbl&gt; | target_class &lt;dbl&gt; |\n",
       "|---|---|---|---|---|---|---|---|---|\n",
       "| 121.15625 | 48.37297 |  0.3754847 | -0.01316549 |  3.168896 | 18.39937 | 7.449874 |  65.159298 | 0 |\n",
       "|  76.96875 | 36.17556 |  0.7128979 |  3.38871856 |  2.399666 | 17.57100 | 9.414652 | 102.722975 | 0 |\n",
       "| 130.58594 | 53.22953 |  0.1334083 | -0.29724164 |  2.743311 | 22.36255 | 8.508364 |  74.031324 | 0 |\n",
       "| 156.39844 | 48.86594 | -0.2159886 | -0.17129365 | 17.471572 |       NA | 2.958066 |   7.197842 | 0 |\n",
       "|  84.80469 | 36.11766 |  0.8250128 |  3.27412537 |  2.790134 | 20.61801 | 8.405008 |  76.291128 | 0 |\n",
       "| 121.00781 | 47.17694 |  0.2297081 |  0.09133623 |  2.036789 |       NA | 9.546051 | 112.131721 | 0 |\n",
       "\n"
      ],
      "text/plain": [
       "  integrated_profile_mean integrated_profile_standard_deviation\n",
       "1 121.15625               48.37297                             \n",
       "2  76.96875               36.17556                             \n",
       "3 130.58594               53.22953                             \n",
       "4 156.39844               48.86594                             \n",
       "5  84.80469               36.11766                             \n",
       "6 121.00781               47.17694                             \n",
       "  integrated_profile_kurtosis integrated_profile_skewness DMSNR_curve_mean\n",
       "1  0.3754847                  -0.01316549                  3.168896       \n",
       "2  0.7128979                   3.38871856                  2.399666       \n",
       "3  0.1334083                  -0.29724164                  2.743311       \n",
       "4 -0.2159886                  -0.17129365                 17.471572       \n",
       "5  0.8250128                   3.27412537                  2.790134       \n",
       "6  0.2297081                   0.09133623                  2.036789       \n",
       "  DMSNR_curve_standard_deviation DMSNR_curve_kurtosis DMSNR_curve_skewness\n",
       "1 18.39937                       7.449874              65.159298          \n",
       "2 17.57100                       9.414652             102.722975          \n",
       "3 22.36255                       8.508364              74.031324          \n",
       "4       NA                       2.958066               7.197842          \n",
       "5 20.61801                       8.405008              76.291128          \n",
       "6       NA                       9.546051             112.131721          \n",
       "  target_class\n",
       "1 0           \n",
       "2 0           \n",
       "3 0           \n",
       "4 0           \n",
       "5 0           \n",
       "6 0           "
      ]
     },
     "metadata": {},
     "output_type": "display_data"
    },
    {
     "data": {
      "text/html": [
       "<table>\n",
       "<caption>A tibble: 6 × 9</caption>\n",
       "<thead>\n",
       "\t<tr><th scope=col>integrated_profile_mean</th><th scope=col>integrated_profile_standard_deviation</th><th scope=col>integrated_profile_kurtosis</th><th scope=col>integrated_profile_skewness</th><th scope=col>DMSNR_curve_mean</th><th scope=col>DMSNR_curve_standard_deviation</th><th scope=col>DMSNR_curve_kurtosis</th><th scope=col>DMSNR_curve_skewness</th><th scope=col>target_class</th></tr>\n",
       "\t<tr><th scope=col>&lt;dbl&gt;</th><th scope=col>&lt;dbl&gt;</th><th scope=col>&lt;dbl&gt;</th><th scope=col>&lt;dbl&gt;</th><th scope=col>&lt;dbl&gt;</th><th scope=col>&lt;dbl&gt;</th><th scope=col>&lt;dbl&gt;</th><th scope=col>&lt;dbl&gt;</th><th scope=col>&lt;lgl&gt;</th></tr>\n",
       "</thead>\n",
       "<tbody>\n",
       "\t<tr><td>116.90625</td><td>48.92060</td><td>0.1860463</td><td>-0.1298151</td><td> 3.037625</td><td>17.73710</td><td>8.1226208</td><td> 78.813405</td><td>NA</td></tr>\n",
       "\t<tr><td> 75.58594</td><td>34.38625</td><td>2.0254984</td><td> 8.6529130</td><td> 3.765050</td><td>21.89705</td><td>7.0481886</td><td> 55.878791</td><td>NA</td></tr>\n",
       "\t<tr><td>103.27344</td><td>46.99663</td><td>0.5042952</td><td> 0.8210883</td><td> 2.244983</td><td>15.62257</td><td>9.3304985</td><td>105.134942</td><td>NA</td></tr>\n",
       "\t<tr><td>101.07812</td><td>48.58749</td><td>1.0114270</td><td> 1.1518699</td><td>81.887960</td><td>81.46414</td><td>0.4851051</td><td> -1.117904</td><td>NA</td></tr>\n",
       "\t<tr><td>113.22656</td><td>48.60880</td><td>0.2915380</td><td> 0.2921203</td><td> 6.291806</td><td>26.58506</td><td>4.5401376</td><td> 21.708268</td><td>NA</td></tr>\n",
       "\t<tr><td> 85.47656</td><td>38.05279</td><td>       NA</td><td> 1.9150973</td><td> 2.637124</td><td>      NA</td><td>9.0015001</td><td>        NA</td><td>NA</td></tr>\n",
       "</tbody>\n",
       "</table>\n"
      ],
      "text/latex": [
       "A tibble: 6 × 9\n",
       "\\begin{tabular}{lllllllll}\n",
       " integrated\\_profile\\_mean & integrated\\_profile\\_standard\\_deviation & integrated\\_profile\\_kurtosis & integrated\\_profile\\_skewness & DMSNR\\_curve\\_mean & DMSNR\\_curve\\_standard\\_deviation & DMSNR\\_curve\\_kurtosis & DMSNR\\_curve\\_skewness & target\\_class\\\\\n",
       " <dbl> & <dbl> & <dbl> & <dbl> & <dbl> & <dbl> & <dbl> & <dbl> & <lgl>\\\\\n",
       "\\hline\n",
       "\t 116.90625 & 48.92060 & 0.1860463 & -0.1298151 &  3.037625 & 17.73710 & 8.1226208 &  78.813405 & NA\\\\\n",
       "\t  75.58594 & 34.38625 & 2.0254984 &  8.6529130 &  3.765050 & 21.89705 & 7.0481886 &  55.878791 & NA\\\\\n",
       "\t 103.27344 & 46.99663 & 0.5042952 &  0.8210883 &  2.244983 & 15.62257 & 9.3304985 & 105.134942 & NA\\\\\n",
       "\t 101.07812 & 48.58749 & 1.0114270 &  1.1518699 & 81.887960 & 81.46414 & 0.4851051 &  -1.117904 & NA\\\\\n",
       "\t 113.22656 & 48.60880 & 0.2915380 &  0.2921203 &  6.291806 & 26.58506 & 4.5401376 &  21.708268 & NA\\\\\n",
       "\t  85.47656 & 38.05279 &        NA &  1.9150973 &  2.637124 &       NA & 9.0015001 &         NA & NA\\\\\n",
       "\\end{tabular}\n"
      ],
      "text/markdown": [
       "\n",
       "A tibble: 6 × 9\n",
       "\n",
       "| integrated_profile_mean &lt;dbl&gt; | integrated_profile_standard_deviation &lt;dbl&gt; | integrated_profile_kurtosis &lt;dbl&gt; | integrated_profile_skewness &lt;dbl&gt; | DMSNR_curve_mean &lt;dbl&gt; | DMSNR_curve_standard_deviation &lt;dbl&gt; | DMSNR_curve_kurtosis &lt;dbl&gt; | DMSNR_curve_skewness &lt;dbl&gt; | target_class &lt;lgl&gt; |\n",
       "|---|---|---|---|---|---|---|---|---|\n",
       "| 116.90625 | 48.92060 | 0.1860463 | -0.1298151 |  3.037625 | 17.73710 | 8.1226208 |  78.813405 | NA |\n",
       "|  75.58594 | 34.38625 | 2.0254984 |  8.6529130 |  3.765050 | 21.89705 | 7.0481886 |  55.878791 | NA |\n",
       "| 103.27344 | 46.99663 | 0.5042952 |  0.8210883 |  2.244983 | 15.62257 | 9.3304985 | 105.134942 | NA |\n",
       "| 101.07812 | 48.58749 | 1.0114270 |  1.1518699 | 81.887960 | 81.46414 | 0.4851051 |  -1.117904 | NA |\n",
       "| 113.22656 | 48.60880 | 0.2915380 |  0.2921203 |  6.291806 | 26.58506 | 4.5401376 |  21.708268 | NA |\n",
       "|  85.47656 | 38.05279 |        NA |  1.9150973 |  2.637124 |       NA | 9.0015001 |         NA | NA |\n",
       "\n"
      ],
      "text/plain": [
       "  integrated_profile_mean integrated_profile_standard_deviation\n",
       "1 116.90625               48.92060                             \n",
       "2  75.58594               34.38625                             \n",
       "3 103.27344               46.99663                             \n",
       "4 101.07812               48.58749                             \n",
       "5 113.22656               48.60880                             \n",
       "6  85.47656               38.05279                             \n",
       "  integrated_profile_kurtosis integrated_profile_skewness DMSNR_curve_mean\n",
       "1 0.1860463                   -0.1298151                   3.037625       \n",
       "2 2.0254984                    8.6529130                   3.765050       \n",
       "3 0.5042952                    0.8210883                   2.244983       \n",
       "4 1.0114270                    1.1518699                  81.887960       \n",
       "5 0.2915380                    0.2921203                   6.291806       \n",
       "6        NA                    1.9150973                   2.637124       \n",
       "  DMSNR_curve_standard_deviation DMSNR_curve_kurtosis DMSNR_curve_skewness\n",
       "1 17.73710                       8.1226208             78.813405          \n",
       "2 21.89705                       7.0481886             55.878791          \n",
       "3 15.62257                       9.3304985            105.134942          \n",
       "4 81.46414                       0.4851051             -1.117904          \n",
       "5 26.58506                       4.5401376             21.708268          \n",
       "6       NA                       9.0015001                    NA          \n",
       "  target_class\n",
       "1 NA          \n",
       "2 NA          \n",
       "3 NA          \n",
       "4 NA          \n",
       "5 NA          \n",
       "6 NA          "
      ]
     },
     "metadata": {},
     "output_type": "display_data"
    }
   ],
   "source": [
    "pulsar_train_tidy <- rename(pulsar_train, integrated_profile_mean = `Mean of the integrated profile`,\n",
    "                                integrated_profile_standard_deviation = `Standard deviation of the integrated profile`,\n",
    "                                 integrated_profile_kurtosis = `Excess kurtosis of the integrated profile`,\n",
    "                                 integrated_profile_skewness = `Skewness of the integrated profile`,\n",
    "                                 DMSNR_curve_mean = `Mean of the DM-SNR curve`,\n",
    "                                 DMSNR_curve_standard_deviation = `Standard deviation of the DM-SNR curve`,\n",
    "                                 DMSNR_curve_kurtosis = `Excess kurtosis of the DM-SNR curve`,\n",
    "                                 DMSNR_curve_skewness = `Skewness of the DM-SNR curve`)\n",
    "pulsar_test_tidy <- rename(pulsar_test, integrated_profile_mean = `Mean of the integrated profile`,\n",
    "                                integrated_profile_standard_deviation = `Standard deviation of the integrated profile`,\n",
    "                                 integrated_profile_kurtosis = `Excess kurtosis of the integrated profile`,\n",
    "                                 integrated_profile_skewness = `Skewness of the integrated profile`,\n",
    "                                 DMSNR_curve_mean = `Mean of the DM-SNR curve`,\n",
    "                                 DMSNR_curve_standard_deviation = `Standard deviation of the DM-SNR curve`,\n",
    "                                 DMSNR_curve_kurtosis = `Excess kurtosis of the DM-SNR curve`,\n",
    "                                 DMSNR_curve_skewness = `Skewness of the DM-SNR curve`)\n",
    "\n",
    "head(pulsar_train_tidy)  \n",
    "head(pulsar_test_tidy)"
   ]
  },
  {
   "cell_type": "markdown",
   "metadata": {},
   "source": [
    "* Summarize the data "
   ]
  },
  {
   "cell_type": "code",
   "execution_count": null,
   "metadata": {},
   "outputs": [],
   "source": []
  }
 ],
 "metadata": {
  "kernelspec": {
   "display_name": "R",
   "language": "R",
   "name": "ir"
  },
  "language_info": {
   "codemirror_mode": "r",
   "file_extension": ".r",
   "mimetype": "text/x-r-source",
   "name": "R",
   "pygments_lexer": "r",
   "version": "4.0.0"
  }
 },
 "nbformat": 4,
 "nbformat_minor": 4
}
