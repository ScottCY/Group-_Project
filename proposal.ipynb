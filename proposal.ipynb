{
 "cells": [
  {
   "cell_type": "code",
   "execution_count": 1,
   "metadata": {},
   "outputs": [
    {
     "name": "stderr",
     "output_type": "stream",
     "text": [
      "── \u001b[1mAttaching packages\u001b[22m ─────────────────────────────────────── tidyverse 1.3.0 ──\n",
      "\n",
      "\u001b[32m✔\u001b[39m \u001b[34mggplot2\u001b[39m 3.3.2     \u001b[32m✔\u001b[39m \u001b[34mpurrr  \u001b[39m 0.3.4\n",
      "\u001b[32m✔\u001b[39m \u001b[34mtibble \u001b[39m 3.0.3     \u001b[32m✔\u001b[39m \u001b[34mdplyr  \u001b[39m 1.0.2\n",
      "\u001b[32m✔\u001b[39m \u001b[34mtidyr  \u001b[39m 1.1.2     \u001b[32m✔\u001b[39m \u001b[34mstringr\u001b[39m 1.4.0\n",
      "\u001b[32m✔\u001b[39m \u001b[34mreadr  \u001b[39m 1.3.1     \u001b[32m✔\u001b[39m \u001b[34mforcats\u001b[39m 0.5.0\n",
      "\n",
      "Warning message:\n",
      "“package ‘ggplot2’ was built under R version 4.0.1”\n",
      "Warning message:\n",
      "“package ‘tibble’ was built under R version 4.0.2”\n",
      "Warning message:\n",
      "“package ‘tidyr’ was built under R version 4.0.2”\n",
      "Warning message:\n",
      "“package ‘dplyr’ was built under R version 4.0.2”\n",
      "── \u001b[1mConflicts\u001b[22m ────────────────────────────────────────── tidyverse_conflicts() ──\n",
      "\u001b[31m✖\u001b[39m \u001b[34mdplyr\u001b[39m::\u001b[32mfilter()\u001b[39m masks \u001b[34mstats\u001b[39m::filter()\n",
      "\u001b[31m✖\u001b[39m \u001b[34mdplyr\u001b[39m::\u001b[32mlag()\u001b[39m    masks \u001b[34mstats\u001b[39m::lag()\n",
      "\n"
     ]
    }
   ],
   "source": [
    "#this is a new file\n",
    "# test test test\n",
    "library(tidyverse)"
   ]
  },
  {
   "cell_type": "markdown",
   "metadata": {},
   "source": [
    "### Section 2: Preliminary exploratory data analysis\n"
   ]
  },
  {
   "cell_type": "markdown",
   "metadata": {},
   "source": [
    "* Reading Data into R"
   ]
  },
  {
   "cell_type": "code",
   "execution_count": 2,
   "metadata": {},
   "outputs": [
    {
     "name": "stderr",
     "output_type": "stream",
     "text": [
      "Parsed with column specification:\n",
      "cols(\n",
      "  `Mean of the integrated profile` = \u001b[32mcol_double()\u001b[39m,\n",
      "  `Standard deviation of the integrated profile` = \u001b[32mcol_double()\u001b[39m,\n",
      "  `Excess kurtosis of the integrated profile` = \u001b[32mcol_double()\u001b[39m,\n",
      "  `Skewness of the integrated profile` = \u001b[32mcol_double()\u001b[39m,\n",
      "  `Mean of the DM-SNR curve` = \u001b[32mcol_double()\u001b[39m,\n",
      "  `Standard deviation of the DM-SNR curve` = \u001b[32mcol_double()\u001b[39m,\n",
      "  `Excess kurtosis of the DM-SNR curve` = \u001b[32mcol_double()\u001b[39m,\n",
      "  `Skewness of the DM-SNR curve` = \u001b[32mcol_double()\u001b[39m,\n",
      "  target_class = \u001b[32mcol_double()\u001b[39m\n",
      ")\n",
      "\n"
     ]
    },
    {
     "data": {
      "text/html": [
       "<table>\n",
       "<caption>A tibble: 6 × 9</caption>\n",
       "<thead>\n",
       "\t<tr><th scope=col>Mean of the integrated profile</th><th scope=col>Standard deviation of the integrated profile</th><th scope=col>Excess kurtosis of the integrated profile</th><th scope=col>Skewness of the integrated profile</th><th scope=col>Mean of the DM-SNR curve</th><th scope=col>Standard deviation of the DM-SNR curve</th><th scope=col>Excess kurtosis of the DM-SNR curve</th><th scope=col>Skewness of the DM-SNR curve</th><th scope=col>target_class</th></tr>\n",
       "\t<tr><th scope=col>&lt;dbl&gt;</th><th scope=col>&lt;dbl&gt;</th><th scope=col>&lt;dbl&gt;</th><th scope=col>&lt;dbl&gt;</th><th scope=col>&lt;dbl&gt;</th><th scope=col>&lt;dbl&gt;</th><th scope=col>&lt;dbl&gt;</th><th scope=col>&lt;dbl&gt;</th><th scope=col>&lt;dbl&gt;</th></tr>\n",
       "</thead>\n",
       "<tbody>\n",
       "\t<tr><td>121.15625</td><td>48.37297</td><td> 0.3754847</td><td>-0.01316549</td><td> 3.168896</td><td>18.39937</td><td>7.449874</td><td> 65.159298</td><td>0</td></tr>\n",
       "\t<tr><td> 76.96875</td><td>36.17556</td><td> 0.7128979</td><td> 3.38871856</td><td> 2.399666</td><td>17.57100</td><td>9.414652</td><td>102.722975</td><td>0</td></tr>\n",
       "\t<tr><td>130.58594</td><td>53.22953</td><td> 0.1334083</td><td>-0.29724164</td><td> 2.743311</td><td>22.36255</td><td>8.508364</td><td> 74.031324</td><td>0</td></tr>\n",
       "\t<tr><td>156.39844</td><td>48.86594</td><td>-0.2159886</td><td>-0.17129365</td><td>17.471572</td><td>      NA</td><td>2.958066</td><td>  7.197842</td><td>0</td></tr>\n",
       "\t<tr><td> 84.80469</td><td>36.11766</td><td> 0.8250128</td><td> 3.27412537</td><td> 2.790134</td><td>20.61801</td><td>8.405008</td><td> 76.291128</td><td>0</td></tr>\n",
       "\t<tr><td>121.00781</td><td>47.17694</td><td> 0.2297081</td><td> 0.09133623</td><td> 2.036789</td><td>      NA</td><td>9.546051</td><td>112.131721</td><td>0</td></tr>\n",
       "</tbody>\n",
       "</table>\n"
      ],
      "text/latex": [
       "A tibble: 6 × 9\n",
       "\\begin{tabular}{lllllllll}\n",
       " Mean of the integrated profile & Standard deviation of the integrated profile & Excess kurtosis of the integrated profile & Skewness of the integrated profile & Mean of the DM-SNR curve & Standard deviation of the DM-SNR curve & Excess kurtosis of the DM-SNR curve & Skewness of the DM-SNR curve & target\\_class\\\\\n",
       " <dbl> & <dbl> & <dbl> & <dbl> & <dbl> & <dbl> & <dbl> & <dbl> & <dbl>\\\\\n",
       "\\hline\n",
       "\t 121.15625 & 48.37297 &  0.3754847 & -0.01316549 &  3.168896 & 18.39937 & 7.449874 &  65.159298 & 0\\\\\n",
       "\t  76.96875 & 36.17556 &  0.7128979 &  3.38871856 &  2.399666 & 17.57100 & 9.414652 & 102.722975 & 0\\\\\n",
       "\t 130.58594 & 53.22953 &  0.1334083 & -0.29724164 &  2.743311 & 22.36255 & 8.508364 &  74.031324 & 0\\\\\n",
       "\t 156.39844 & 48.86594 & -0.2159886 & -0.17129365 & 17.471572 &       NA & 2.958066 &   7.197842 & 0\\\\\n",
       "\t  84.80469 & 36.11766 &  0.8250128 &  3.27412537 &  2.790134 & 20.61801 & 8.405008 &  76.291128 & 0\\\\\n",
       "\t 121.00781 & 47.17694 &  0.2297081 &  0.09133623 &  2.036789 &       NA & 9.546051 & 112.131721 & 0\\\\\n",
       "\\end{tabular}\n"
      ],
      "text/markdown": [
       "\n",
       "A tibble: 6 × 9\n",
       "\n",
       "| Mean of the integrated profile &lt;dbl&gt; | Standard deviation of the integrated profile &lt;dbl&gt; | Excess kurtosis of the integrated profile &lt;dbl&gt; | Skewness of the integrated profile &lt;dbl&gt; | Mean of the DM-SNR curve &lt;dbl&gt; | Standard deviation of the DM-SNR curve &lt;dbl&gt; | Excess kurtosis of the DM-SNR curve &lt;dbl&gt; | Skewness of the DM-SNR curve &lt;dbl&gt; | target_class &lt;dbl&gt; |\n",
       "|---|---|---|---|---|---|---|---|---|\n",
       "| 121.15625 | 48.37297 |  0.3754847 | -0.01316549 |  3.168896 | 18.39937 | 7.449874 |  65.159298 | 0 |\n",
       "|  76.96875 | 36.17556 |  0.7128979 |  3.38871856 |  2.399666 | 17.57100 | 9.414652 | 102.722975 | 0 |\n",
       "| 130.58594 | 53.22953 |  0.1334083 | -0.29724164 |  2.743311 | 22.36255 | 8.508364 |  74.031324 | 0 |\n",
       "| 156.39844 | 48.86594 | -0.2159886 | -0.17129365 | 17.471572 |       NA | 2.958066 |   7.197842 | 0 |\n",
       "|  84.80469 | 36.11766 |  0.8250128 |  3.27412537 |  2.790134 | 20.61801 | 8.405008 |  76.291128 | 0 |\n",
       "| 121.00781 | 47.17694 |  0.2297081 |  0.09133623 |  2.036789 |       NA | 9.546051 | 112.131721 | 0 |\n",
       "\n"
      ],
      "text/plain": [
       "  Mean of the integrated profile Standard deviation of the integrated profile\n",
       "1 121.15625                      48.37297                                    \n",
       "2  76.96875                      36.17556                                    \n",
       "3 130.58594                      53.22953                                    \n",
       "4 156.39844                      48.86594                                    \n",
       "5  84.80469                      36.11766                                    \n",
       "6 121.00781                      47.17694                                    \n",
       "  Excess kurtosis of the integrated profile Skewness of the integrated profile\n",
       "1  0.3754847                                -0.01316549                       \n",
       "2  0.7128979                                 3.38871856                       \n",
       "3  0.1334083                                -0.29724164                       \n",
       "4 -0.2159886                                -0.17129365                       \n",
       "5  0.8250128                                 3.27412537                       \n",
       "6  0.2297081                                 0.09133623                       \n",
       "  Mean of the DM-SNR curve Standard deviation of the DM-SNR curve\n",
       "1  3.168896                18.39937                              \n",
       "2  2.399666                17.57100                              \n",
       "3  2.743311                22.36255                              \n",
       "4 17.471572                      NA                              \n",
       "5  2.790134                20.61801                              \n",
       "6  2.036789                      NA                              \n",
       "  Excess kurtosis of the DM-SNR curve Skewness of the DM-SNR curve target_class\n",
       "1 7.449874                             65.159298                   0           \n",
       "2 9.414652                            102.722975                   0           \n",
       "3 8.508364                             74.031324                   0           \n",
       "4 2.958066                              7.197842                   0           \n",
       "5 8.405008                             76.291128                   0           \n",
       "6 9.546051                            112.131721                   0           "
      ]
     },
     "metadata": {},
     "output_type": "display_data"
    },
    {
     "name": "stderr",
     "output_type": "stream",
     "text": [
      "Parsed with column specification:\n",
      "cols(\n",
      "  `Mean of the integrated profile` = \u001b[32mcol_double()\u001b[39m,\n",
      "  `Standard deviation of the integrated profile` = \u001b[32mcol_double()\u001b[39m,\n",
      "  `Excess kurtosis of the integrated profile` = \u001b[32mcol_double()\u001b[39m,\n",
      "  `Skewness of the integrated profile` = \u001b[32mcol_double()\u001b[39m,\n",
      "  `Mean of the DM-SNR curve` = \u001b[32mcol_double()\u001b[39m,\n",
      "  `Standard deviation of the DM-SNR curve` = \u001b[32mcol_double()\u001b[39m,\n",
      "  `Excess kurtosis of the DM-SNR curve` = \u001b[32mcol_double()\u001b[39m,\n",
      "  `Skewness of the DM-SNR curve` = \u001b[32mcol_double()\u001b[39m,\n",
      "  target_class = \u001b[33mcol_logical()\u001b[39m\n",
      ")\n",
      "\n"
     ]
    },
    {
     "data": {
      "text/html": [
       "<table>\n",
       "<caption>A tibble: 6 × 9</caption>\n",
       "<thead>\n",
       "\t<tr><th scope=col>Mean of the integrated profile</th><th scope=col>Standard deviation of the integrated profile</th><th scope=col>Excess kurtosis of the integrated profile</th><th scope=col>Skewness of the integrated profile</th><th scope=col>Mean of the DM-SNR curve</th><th scope=col>Standard deviation of the DM-SNR curve</th><th scope=col>Excess kurtosis of the DM-SNR curve</th><th scope=col>Skewness of the DM-SNR curve</th><th scope=col>target_class</th></tr>\n",
       "\t<tr><th scope=col>&lt;dbl&gt;</th><th scope=col>&lt;dbl&gt;</th><th scope=col>&lt;dbl&gt;</th><th scope=col>&lt;dbl&gt;</th><th scope=col>&lt;dbl&gt;</th><th scope=col>&lt;dbl&gt;</th><th scope=col>&lt;dbl&gt;</th><th scope=col>&lt;dbl&gt;</th><th scope=col>&lt;lgl&gt;</th></tr>\n",
       "</thead>\n",
       "<tbody>\n",
       "\t<tr><td>116.90625</td><td>48.92060</td><td>0.1860463</td><td>-0.1298151</td><td> 3.037625</td><td>17.73710</td><td>8.1226208</td><td> 78.813405</td><td>NA</td></tr>\n",
       "\t<tr><td> 75.58594</td><td>34.38625</td><td>2.0254984</td><td> 8.6529130</td><td> 3.765050</td><td>21.89705</td><td>7.0481886</td><td> 55.878791</td><td>NA</td></tr>\n",
       "\t<tr><td>103.27344</td><td>46.99663</td><td>0.5042952</td><td> 0.8210883</td><td> 2.244983</td><td>15.62257</td><td>9.3304985</td><td>105.134942</td><td>NA</td></tr>\n",
       "\t<tr><td>101.07812</td><td>48.58749</td><td>1.0114270</td><td> 1.1518699</td><td>81.887960</td><td>81.46414</td><td>0.4851051</td><td> -1.117904</td><td>NA</td></tr>\n",
       "\t<tr><td>113.22656</td><td>48.60880</td><td>0.2915380</td><td> 0.2921203</td><td> 6.291806</td><td>26.58506</td><td>4.5401376</td><td> 21.708268</td><td>NA</td></tr>\n",
       "\t<tr><td> 85.47656</td><td>38.05279</td><td>       NA</td><td> 1.9150973</td><td> 2.637124</td><td>      NA</td><td>9.0015001</td><td>        NA</td><td>NA</td></tr>\n",
       "</tbody>\n",
       "</table>\n"
      ],
      "text/latex": [
       "A tibble: 6 × 9\n",
       "\\begin{tabular}{lllllllll}\n",
       " Mean of the integrated profile & Standard deviation of the integrated profile & Excess kurtosis of the integrated profile & Skewness of the integrated profile & Mean of the DM-SNR curve & Standard deviation of the DM-SNR curve & Excess kurtosis of the DM-SNR curve & Skewness of the DM-SNR curve & target\\_class\\\\\n",
       " <dbl> & <dbl> & <dbl> & <dbl> & <dbl> & <dbl> & <dbl> & <dbl> & <lgl>\\\\\n",
       "\\hline\n",
       "\t 116.90625 & 48.92060 & 0.1860463 & -0.1298151 &  3.037625 & 17.73710 & 8.1226208 &  78.813405 & NA\\\\\n",
       "\t  75.58594 & 34.38625 & 2.0254984 &  8.6529130 &  3.765050 & 21.89705 & 7.0481886 &  55.878791 & NA\\\\\n",
       "\t 103.27344 & 46.99663 & 0.5042952 &  0.8210883 &  2.244983 & 15.62257 & 9.3304985 & 105.134942 & NA\\\\\n",
       "\t 101.07812 & 48.58749 & 1.0114270 &  1.1518699 & 81.887960 & 81.46414 & 0.4851051 &  -1.117904 & NA\\\\\n",
       "\t 113.22656 & 48.60880 & 0.2915380 &  0.2921203 &  6.291806 & 26.58506 & 4.5401376 &  21.708268 & NA\\\\\n",
       "\t  85.47656 & 38.05279 &        NA &  1.9150973 &  2.637124 &       NA & 9.0015001 &         NA & NA\\\\\n",
       "\\end{tabular}\n"
      ],
      "text/markdown": [
       "\n",
       "A tibble: 6 × 9\n",
       "\n",
       "| Mean of the integrated profile &lt;dbl&gt; | Standard deviation of the integrated profile &lt;dbl&gt; | Excess kurtosis of the integrated profile &lt;dbl&gt; | Skewness of the integrated profile &lt;dbl&gt; | Mean of the DM-SNR curve &lt;dbl&gt; | Standard deviation of the DM-SNR curve &lt;dbl&gt; | Excess kurtosis of the DM-SNR curve &lt;dbl&gt; | Skewness of the DM-SNR curve &lt;dbl&gt; | target_class &lt;lgl&gt; |\n",
       "|---|---|---|---|---|---|---|---|---|\n",
       "| 116.90625 | 48.92060 | 0.1860463 | -0.1298151 |  3.037625 | 17.73710 | 8.1226208 |  78.813405 | NA |\n",
       "|  75.58594 | 34.38625 | 2.0254984 |  8.6529130 |  3.765050 | 21.89705 | 7.0481886 |  55.878791 | NA |\n",
       "| 103.27344 | 46.99663 | 0.5042952 |  0.8210883 |  2.244983 | 15.62257 | 9.3304985 | 105.134942 | NA |\n",
       "| 101.07812 | 48.58749 | 1.0114270 |  1.1518699 | 81.887960 | 81.46414 | 0.4851051 |  -1.117904 | NA |\n",
       "| 113.22656 | 48.60880 | 0.2915380 |  0.2921203 |  6.291806 | 26.58506 | 4.5401376 |  21.708268 | NA |\n",
       "|  85.47656 | 38.05279 |        NA |  1.9150973 |  2.637124 |       NA | 9.0015001 |         NA | NA |\n",
       "\n"
      ],
      "text/plain": [
       "  Mean of the integrated profile Standard deviation of the integrated profile\n",
       "1 116.90625                      48.92060                                    \n",
       "2  75.58594                      34.38625                                    \n",
       "3 103.27344                      46.99663                                    \n",
       "4 101.07812                      48.58749                                    \n",
       "5 113.22656                      48.60880                                    \n",
       "6  85.47656                      38.05279                                    \n",
       "  Excess kurtosis of the integrated profile Skewness of the integrated profile\n",
       "1 0.1860463                                 -0.1298151                        \n",
       "2 2.0254984                                  8.6529130                        \n",
       "3 0.5042952                                  0.8210883                        \n",
       "4 1.0114270                                  1.1518699                        \n",
       "5 0.2915380                                  0.2921203                        \n",
       "6        NA                                  1.9150973                        \n",
       "  Mean of the DM-SNR curve Standard deviation of the DM-SNR curve\n",
       "1  3.037625                17.73710                              \n",
       "2  3.765050                21.89705                              \n",
       "3  2.244983                15.62257                              \n",
       "4 81.887960                81.46414                              \n",
       "5  6.291806                26.58506                              \n",
       "6  2.637124                      NA                              \n",
       "  Excess kurtosis of the DM-SNR curve Skewness of the DM-SNR curve target_class\n",
       "1 8.1226208                            78.813405                   NA          \n",
       "2 7.0481886                            55.878791                   NA          \n",
       "3 9.3304985                           105.134942                   NA          \n",
       "4 0.4851051                            -1.117904                   NA          \n",
       "5 4.5401376                            21.708268                   NA          \n",
       "6 9.0015001                                   NA                   NA          "
      ]
     },
     "metadata": {},
     "output_type": "display_data"
    }
   ],
   "source": [
    "names = c(\"integrated_mean\", \"integrated_standard_deviation\", \"integrated_kurtosis\", \"integrated_skewness\", \"curve_mean\", \"curve_standard_deviation\", \"curve_kurtosis\", \"curve_skewness\", \"class\")\n",
    "pulsar_train <- read_csv(\"pulsar_data_train.csv\")\n",
    "head(pulsar_train)\n",
    "pulsar_test <- read_csv(\"pulsar_data_test.csv\")\n",
    "head(pulsar_test)\n"
   ]
  },
  {
   "cell_type": "markdown",
   "metadata": {},
   "source": [
    "* Tidy Format"
   ]
  },
  {
   "cell_type": "markdown",
   "metadata": {},
   "source": [
    "By looking at the data itself, it is already a tidy format since each row represents one observation, each column is a single variable and each value is in a single cell. But to make the data more concise and readable, we choose to rename the column names to make it stay in a single line. Also, we change the category of target_class to factor since it can only be 0 or 1."
   ]
  },
  {
   "cell_type": "code",
   "execution_count": 3,
   "metadata": {},
   "outputs": [
    {
     "data": {
      "text/html": [
       "<table>\n",
       "<caption>A tibble: 6 × 9</caption>\n",
       "<thead>\n",
       "\t<tr><th scope=col>integrated_profile_mean</th><th scope=col>integrated_profile_standard_deviation</th><th scope=col>integrated_profile_kurtosis</th><th scope=col>integrated_profile_skewness</th><th scope=col>DMSNR_curve_mean</th><th scope=col>DMSNR_curve_standard_deviation</th><th scope=col>DMSNR_curve_kurtosis</th><th scope=col>DMSNR_curve_skewness</th><th scope=col>target_class</th></tr>\n",
       "\t<tr><th scope=col>&lt;dbl&gt;</th><th scope=col>&lt;dbl&gt;</th><th scope=col>&lt;dbl&gt;</th><th scope=col>&lt;dbl&gt;</th><th scope=col>&lt;dbl&gt;</th><th scope=col>&lt;dbl&gt;</th><th scope=col>&lt;dbl&gt;</th><th scope=col>&lt;dbl&gt;</th><th scope=col>&lt;fct&gt;</th></tr>\n",
       "</thead>\n",
       "<tbody>\n",
       "\t<tr><td>121.15625</td><td>48.37297</td><td> 0.3754847</td><td>-0.01316549</td><td> 3.168896</td><td>18.39937</td><td>7.449874</td><td> 65.159298</td><td>0</td></tr>\n",
       "\t<tr><td> 76.96875</td><td>36.17556</td><td> 0.7128979</td><td> 3.38871856</td><td> 2.399666</td><td>17.57100</td><td>9.414652</td><td>102.722975</td><td>0</td></tr>\n",
       "\t<tr><td>130.58594</td><td>53.22953</td><td> 0.1334083</td><td>-0.29724164</td><td> 2.743311</td><td>22.36255</td><td>8.508364</td><td> 74.031324</td><td>0</td></tr>\n",
       "\t<tr><td>156.39844</td><td>48.86594</td><td>-0.2159886</td><td>-0.17129365</td><td>17.471572</td><td>      NA</td><td>2.958066</td><td>  7.197842</td><td>0</td></tr>\n",
       "\t<tr><td> 84.80469</td><td>36.11766</td><td> 0.8250128</td><td> 3.27412537</td><td> 2.790134</td><td>20.61801</td><td>8.405008</td><td> 76.291128</td><td>0</td></tr>\n",
       "\t<tr><td>121.00781</td><td>47.17694</td><td> 0.2297081</td><td> 0.09133623</td><td> 2.036789</td><td>      NA</td><td>9.546051</td><td>112.131721</td><td>0</td></tr>\n",
       "</tbody>\n",
       "</table>\n"
      ],
      "text/latex": [
       "A tibble: 6 × 9\n",
       "\\begin{tabular}{lllllllll}\n",
       " integrated\\_profile\\_mean & integrated\\_profile\\_standard\\_deviation & integrated\\_profile\\_kurtosis & integrated\\_profile\\_skewness & DMSNR\\_curve\\_mean & DMSNR\\_curve\\_standard\\_deviation & DMSNR\\_curve\\_kurtosis & DMSNR\\_curve\\_skewness & target\\_class\\\\\n",
       " <dbl> & <dbl> & <dbl> & <dbl> & <dbl> & <dbl> & <dbl> & <dbl> & <fct>\\\\\n",
       "\\hline\n",
       "\t 121.15625 & 48.37297 &  0.3754847 & -0.01316549 &  3.168896 & 18.39937 & 7.449874 &  65.159298 & 0\\\\\n",
       "\t  76.96875 & 36.17556 &  0.7128979 &  3.38871856 &  2.399666 & 17.57100 & 9.414652 & 102.722975 & 0\\\\\n",
       "\t 130.58594 & 53.22953 &  0.1334083 & -0.29724164 &  2.743311 & 22.36255 & 8.508364 &  74.031324 & 0\\\\\n",
       "\t 156.39844 & 48.86594 & -0.2159886 & -0.17129365 & 17.471572 &       NA & 2.958066 &   7.197842 & 0\\\\\n",
       "\t  84.80469 & 36.11766 &  0.8250128 &  3.27412537 &  2.790134 & 20.61801 & 8.405008 &  76.291128 & 0\\\\\n",
       "\t 121.00781 & 47.17694 &  0.2297081 &  0.09133623 &  2.036789 &       NA & 9.546051 & 112.131721 & 0\\\\\n",
       "\\end{tabular}\n"
      ],
      "text/markdown": [
       "\n",
       "A tibble: 6 × 9\n",
       "\n",
       "| integrated_profile_mean &lt;dbl&gt; | integrated_profile_standard_deviation &lt;dbl&gt; | integrated_profile_kurtosis &lt;dbl&gt; | integrated_profile_skewness &lt;dbl&gt; | DMSNR_curve_mean &lt;dbl&gt; | DMSNR_curve_standard_deviation &lt;dbl&gt; | DMSNR_curve_kurtosis &lt;dbl&gt; | DMSNR_curve_skewness &lt;dbl&gt; | target_class &lt;fct&gt; |\n",
       "|---|---|---|---|---|---|---|---|---|\n",
       "| 121.15625 | 48.37297 |  0.3754847 | -0.01316549 |  3.168896 | 18.39937 | 7.449874 |  65.159298 | 0 |\n",
       "|  76.96875 | 36.17556 |  0.7128979 |  3.38871856 |  2.399666 | 17.57100 | 9.414652 | 102.722975 | 0 |\n",
       "| 130.58594 | 53.22953 |  0.1334083 | -0.29724164 |  2.743311 | 22.36255 | 8.508364 |  74.031324 | 0 |\n",
       "| 156.39844 | 48.86594 | -0.2159886 | -0.17129365 | 17.471572 |       NA | 2.958066 |   7.197842 | 0 |\n",
       "|  84.80469 | 36.11766 |  0.8250128 |  3.27412537 |  2.790134 | 20.61801 | 8.405008 |  76.291128 | 0 |\n",
       "| 121.00781 | 47.17694 |  0.2297081 |  0.09133623 |  2.036789 |       NA | 9.546051 | 112.131721 | 0 |\n",
       "\n"
      ],
      "text/plain": [
       "  integrated_profile_mean integrated_profile_standard_deviation\n",
       "1 121.15625               48.37297                             \n",
       "2  76.96875               36.17556                             \n",
       "3 130.58594               53.22953                             \n",
       "4 156.39844               48.86594                             \n",
       "5  84.80469               36.11766                             \n",
       "6 121.00781               47.17694                             \n",
       "  integrated_profile_kurtosis integrated_profile_skewness DMSNR_curve_mean\n",
       "1  0.3754847                  -0.01316549                  3.168896       \n",
       "2  0.7128979                   3.38871856                  2.399666       \n",
       "3  0.1334083                  -0.29724164                  2.743311       \n",
       "4 -0.2159886                  -0.17129365                 17.471572       \n",
       "5  0.8250128                   3.27412537                  2.790134       \n",
       "6  0.2297081                   0.09133623                  2.036789       \n",
       "  DMSNR_curve_standard_deviation DMSNR_curve_kurtosis DMSNR_curve_skewness\n",
       "1 18.39937                       7.449874              65.159298          \n",
       "2 17.57100                       9.414652             102.722975          \n",
       "3 22.36255                       8.508364              74.031324          \n",
       "4       NA                       2.958066               7.197842          \n",
       "5 20.61801                       8.405008              76.291128          \n",
       "6       NA                       9.546051             112.131721          \n",
       "  target_class\n",
       "1 0           \n",
       "2 0           \n",
       "3 0           \n",
       "4 0           \n",
       "5 0           \n",
       "6 0           "
      ]
     },
     "metadata": {},
     "output_type": "display_data"
    },
    {
     "data": {
      "text/html": [
       "<table>\n",
       "<caption>A tibble: 6 × 9</caption>\n",
       "<thead>\n",
       "\t<tr><th scope=col>integrated_profile_mean</th><th scope=col>integrated_profile_standard_deviation</th><th scope=col>integrated_profile_kurtosis</th><th scope=col>integrated_profile_skewness</th><th scope=col>DMSNR_curve_mean</th><th scope=col>DMSNR_curve_standard_deviation</th><th scope=col>DMSNR_curve_kurtosis</th><th scope=col>DMSNR_curve_skewness</th><th scope=col>target_class</th></tr>\n",
       "\t<tr><th scope=col>&lt;dbl&gt;</th><th scope=col>&lt;dbl&gt;</th><th scope=col>&lt;dbl&gt;</th><th scope=col>&lt;dbl&gt;</th><th scope=col>&lt;dbl&gt;</th><th scope=col>&lt;dbl&gt;</th><th scope=col>&lt;dbl&gt;</th><th scope=col>&lt;dbl&gt;</th><th scope=col>&lt;fct&gt;</th></tr>\n",
       "</thead>\n",
       "<tbody>\n",
       "\t<tr><td>116.90625</td><td>48.92060</td><td>0.1860463</td><td>-0.1298151</td><td> 3.037625</td><td>17.73710</td><td>8.1226208</td><td> 78.813405</td><td>NA</td></tr>\n",
       "\t<tr><td> 75.58594</td><td>34.38625</td><td>2.0254984</td><td> 8.6529130</td><td> 3.765050</td><td>21.89705</td><td>7.0481886</td><td> 55.878791</td><td>NA</td></tr>\n",
       "\t<tr><td>103.27344</td><td>46.99663</td><td>0.5042952</td><td> 0.8210883</td><td> 2.244983</td><td>15.62257</td><td>9.3304985</td><td>105.134942</td><td>NA</td></tr>\n",
       "\t<tr><td>101.07812</td><td>48.58749</td><td>1.0114270</td><td> 1.1518699</td><td>81.887960</td><td>81.46414</td><td>0.4851051</td><td> -1.117904</td><td>NA</td></tr>\n",
       "\t<tr><td>113.22656</td><td>48.60880</td><td>0.2915380</td><td> 0.2921203</td><td> 6.291806</td><td>26.58506</td><td>4.5401376</td><td> 21.708268</td><td>NA</td></tr>\n",
       "\t<tr><td> 85.47656</td><td>38.05279</td><td>       NA</td><td> 1.9150973</td><td> 2.637124</td><td>      NA</td><td>9.0015001</td><td>        NA</td><td>NA</td></tr>\n",
       "</tbody>\n",
       "</table>\n"
      ],
      "text/latex": [
       "A tibble: 6 × 9\n",
       "\\begin{tabular}{lllllllll}\n",
       " integrated\\_profile\\_mean & integrated\\_profile\\_standard\\_deviation & integrated\\_profile\\_kurtosis & integrated\\_profile\\_skewness & DMSNR\\_curve\\_mean & DMSNR\\_curve\\_standard\\_deviation & DMSNR\\_curve\\_kurtosis & DMSNR\\_curve\\_skewness & target\\_class\\\\\n",
       " <dbl> & <dbl> & <dbl> & <dbl> & <dbl> & <dbl> & <dbl> & <dbl> & <fct>\\\\\n",
       "\\hline\n",
       "\t 116.90625 & 48.92060 & 0.1860463 & -0.1298151 &  3.037625 & 17.73710 & 8.1226208 &  78.813405 & NA\\\\\n",
       "\t  75.58594 & 34.38625 & 2.0254984 &  8.6529130 &  3.765050 & 21.89705 & 7.0481886 &  55.878791 & NA\\\\\n",
       "\t 103.27344 & 46.99663 & 0.5042952 &  0.8210883 &  2.244983 & 15.62257 & 9.3304985 & 105.134942 & NA\\\\\n",
       "\t 101.07812 & 48.58749 & 1.0114270 &  1.1518699 & 81.887960 & 81.46414 & 0.4851051 &  -1.117904 & NA\\\\\n",
       "\t 113.22656 & 48.60880 & 0.2915380 &  0.2921203 &  6.291806 & 26.58506 & 4.5401376 &  21.708268 & NA\\\\\n",
       "\t  85.47656 & 38.05279 &        NA &  1.9150973 &  2.637124 &       NA & 9.0015001 &         NA & NA\\\\\n",
       "\\end{tabular}\n"
      ],
      "text/markdown": [
       "\n",
       "A tibble: 6 × 9\n",
       "\n",
       "| integrated_profile_mean &lt;dbl&gt; | integrated_profile_standard_deviation &lt;dbl&gt; | integrated_profile_kurtosis &lt;dbl&gt; | integrated_profile_skewness &lt;dbl&gt; | DMSNR_curve_mean &lt;dbl&gt; | DMSNR_curve_standard_deviation &lt;dbl&gt; | DMSNR_curve_kurtosis &lt;dbl&gt; | DMSNR_curve_skewness &lt;dbl&gt; | target_class &lt;fct&gt; |\n",
       "|---|---|---|---|---|---|---|---|---|\n",
       "| 116.90625 | 48.92060 | 0.1860463 | -0.1298151 |  3.037625 | 17.73710 | 8.1226208 |  78.813405 | NA |\n",
       "|  75.58594 | 34.38625 | 2.0254984 |  8.6529130 |  3.765050 | 21.89705 | 7.0481886 |  55.878791 | NA |\n",
       "| 103.27344 | 46.99663 | 0.5042952 |  0.8210883 |  2.244983 | 15.62257 | 9.3304985 | 105.134942 | NA |\n",
       "| 101.07812 | 48.58749 | 1.0114270 |  1.1518699 | 81.887960 | 81.46414 | 0.4851051 |  -1.117904 | NA |\n",
       "| 113.22656 | 48.60880 | 0.2915380 |  0.2921203 |  6.291806 | 26.58506 | 4.5401376 |  21.708268 | NA |\n",
       "|  85.47656 | 38.05279 |        NA |  1.9150973 |  2.637124 |       NA | 9.0015001 |         NA | NA |\n",
       "\n"
      ],
      "text/plain": [
       "  integrated_profile_mean integrated_profile_standard_deviation\n",
       "1 116.90625               48.92060                             \n",
       "2  75.58594               34.38625                             \n",
       "3 103.27344               46.99663                             \n",
       "4 101.07812               48.58749                             \n",
       "5 113.22656               48.60880                             \n",
       "6  85.47656               38.05279                             \n",
       "  integrated_profile_kurtosis integrated_profile_skewness DMSNR_curve_mean\n",
       "1 0.1860463                   -0.1298151                   3.037625       \n",
       "2 2.0254984                    8.6529130                   3.765050       \n",
       "3 0.5042952                    0.8210883                   2.244983       \n",
       "4 1.0114270                    1.1518699                  81.887960       \n",
       "5 0.2915380                    0.2921203                   6.291806       \n",
       "6        NA                    1.9150973                   2.637124       \n",
       "  DMSNR_curve_standard_deviation DMSNR_curve_kurtosis DMSNR_curve_skewness\n",
       "1 17.73710                       8.1226208             78.813405          \n",
       "2 21.89705                       7.0481886             55.878791          \n",
       "3 15.62257                       9.3304985            105.134942          \n",
       "4 81.46414                       0.4851051             -1.117904          \n",
       "5 26.58506                       4.5401376             21.708268          \n",
       "6       NA                       9.0015001                    NA          \n",
       "  target_class\n",
       "1 NA          \n",
       "2 NA          \n",
       "3 NA          \n",
       "4 NA          \n",
       "5 NA          \n",
       "6 NA          "
      ]
     },
     "metadata": {},
     "output_type": "display_data"
    }
   ],
   "source": [
    "pulsar_train_tidy <- rename(pulsar_train, integrated_profile_mean = `Mean of the integrated profile`,\n",
    "                                integrated_profile_standard_deviation = `Standard deviation of the integrated profile`,\n",
    "                                 integrated_profile_kurtosis = `Excess kurtosis of the integrated profile`,\n",
    "                                 integrated_profile_skewness = `Skewness of the integrated profile`,\n",
    "                                 DMSNR_curve_mean = `Mean of the DM-SNR curve`,\n",
    "                                 DMSNR_curve_standard_deviation = `Standard deviation of the DM-SNR curve`,\n",
    "                                 DMSNR_curve_kurtosis = `Excess kurtosis of the DM-SNR curve`,\n",
    "                                 DMSNR_curve_skewness = `Skewness of the DM-SNR curve`) %>%\n",
    "                     mutate(target_class = as_factor(target_class))\n",
    "pulsar_test_tidy <- rename(pulsar_test, integrated_profile_mean = `Mean of the integrated profile`,\n",
    "                                integrated_profile_standard_deviation = `Standard deviation of the integrated profile`,\n",
    "                                 integrated_profile_kurtosis = `Excess kurtosis of the integrated profile`,\n",
    "                                 integrated_profile_skewness = `Skewness of the integrated profile`,\n",
    "                                 DMSNR_curve_mean = `Mean of the DM-SNR curve`,\n",
    "                                 DMSNR_curve_standard_deviation = `Standard deviation of the DM-SNR curve`,\n",
    "                                 DMSNR_curve_kurtosis = `Excess kurtosis of the DM-SNR curve`,\n",
    "                                 DMSNR_curve_skewness = `Skewness of the DM-SNR curve`) %>%\n",
    "                      mutate(target_class = as_factor(target_class))\n",
    "\n",
    "\n",
    "head(pulsar_train_tidy)  \n",
    "head(pulsar_test_tidy)"
   ]
  },
  {
   "cell_type": "markdown",
   "metadata": {},
   "source": [
    "* Summarize the data "
   ]
  },
  {
   "cell_type": "markdown",
   "metadata": {},
   "source": [
    "For summary section, we choose to make two tables, one used to summarize the information we could get from all the predictors and the other for summarizing the given target_class in training set."
   ]
  },
  {
   "cell_type": "code",
   "execution_count": 7,
   "metadata": {},
   "outputs": [],
   "source": [
    "# Gather necessary summary in this cell\n",
    "Col1 <- pulsar_train_tidy$integrated_profile_mean\n",
    "Col2 <- pulsar_train_tidy$integrated_profile_standard_deviation\n",
    "Col3 <- pulsar_train_tidy$integrated_profile_kurtosis\n",
    "Col4 <- pulsar_train_tidy$integrated_profile_skewness\n",
    "Col5 <- pulsar_train_tidy$DMSNR_curve_mean\n",
    "Col6 <- pulsar_train_tidy$DMSNR_curve_standard_deviation\n",
    "Col7 <- pulsar_train_tidy$DMSNR_curve_kurtosis\n",
    "Col8 <- pulsar_train_tidy$DMSNR_curve_skewness\n",
    "\n",
    "summary_column1 <- summary(Col1, na.rm = TRUE)\n",
    "summary_column2 <- summary(Col2, na.rm = TRUE)\n",
    "summary_column3 <- summary(Col3, na.rm = TRUE)\n",
    "summary_column4 <- summary(Col4, na.rm = TRUE)\n",
    "summary_column5 <- summary(Col5, na.rm = TRUE)\n",
    "summary_column6 <- summary(Col6, na.rm = TRUE)\n",
    "summary_column7 <- summary(Col7, na.rm = TRUE)\n",
    "summary_column8 <- summary(Col8, na.rm = TRUE)\n",
    "\n",
    "na_C1 <- sum(is.na(Col1))\n",
    "na_C2 <- sum(is.na(Col2))\n",
    "na_C3 <- sum(is.na(Col3))\n",
    "na_C4 <- sum(is.na(Col4))\n",
    "na_C5 <- sum(is.na(Col5))\n",
    "na_C6 <- sum(is.na(Col6))\n",
    "na_C7 <- sum(is.na(Col7))\n",
    "na_C8 <- sum(is.na(Col8))\n",
    "\n",
    "n_observation <- nrow(pulsar_train_tidy) "
   ]
  },
  {
   "cell_type": "code",
   "execution_count": 20,
   "metadata": {},
   "outputs": [
    {
     "data": {
      "text/html": [
       "<table>\n",
       "<caption>A data.frame: 8 × 9</caption>\n",
       "<thead>\n",
       "\t<tr><th scope=col>data_type</th><th scope=col>Minimun</th><th scope=col>Q1(25% percentile)</th><th scope=col>Median</th><th scope=col>Mean</th><th scope=col>Q3(75% percentile)</th><th scope=col>Maximun</th><th scope=col>number_of_NA</th><th scope=col>number_of_data</th></tr>\n",
       "\t<tr><th scope=col>&lt;chr&gt;</th><th scope=col>&lt;dbl&gt;</th><th scope=col>&lt;dbl&gt;</th><th scope=col>&lt;dbl&gt;</th><th scope=col>&lt;dbl&gt;</th><th scope=col>&lt;dbl&gt;</th><th scope=col>&lt;dbl&gt;</th><th scope=col>&lt;int&gt;</th><th scope=col>&lt;int&gt;</th></tr>\n",
       "</thead>\n",
       "<tbody>\n",
       "\t<tr><td>integrated_profile_mean              </td><td> 5.8125000</td><td>100.87109375</td><td>115.183594</td><td>111.0418413</td><td>127.1093750</td><td> 189.734375</td><td>   0</td><td>12528</td></tr>\n",
       "\t<tr><td>integrated_profile_standard_deviation</td><td>24.7720418</td><td> 42.36222228</td><td> 46.931022</td><td> 46.5214373</td><td> 50.9791025</td><td>  91.808628</td><td>   0</td><td>12528</td></tr>\n",
       "\t<tr><td>integrated_profile_kurtosis          </td><td>-1.7380208</td><td>  0.02465239</td><td>  0.223678</td><td>  0.4785477</td><td>  0.4731246</td><td>   8.069522</td><td>1735</td><td>12528</td></tr>\n",
       "\t<tr><td>integrated_profile_skewness          </td><td>-1.7918860</td><td> -0.18814176</td><td>  0.203317</td><td>  1.7784311</td><td>  0.9323738</td><td>  68.101622</td><td>   0</td><td>12528</td></tr>\n",
       "\t<tr><td>DMSNR_curve_mean                     </td><td> 0.2132107</td><td>  1.91053512</td><td>  2.792642</td><td> 12.6747578</td><td>  5.4132525</td><td> 222.421405</td><td>   0</td><td>12528</td></tr>\n",
       "\t<tr><td>DMSNR_curve_standard_deviation       </td><td> 7.3704322</td><td> 14.40435324</td><td> 18.412402</td><td> 26.3513182</td><td> 28.3374185</td><td> 110.642211</td><td>1178</td><td>12528</td></tr>\n",
       "\t<tr><td>DMSNR_curve_kurtosis                 </td><td>-3.1392696</td><td>  5.80306338</td><td>  8.451097</td><td>  8.3334891</td><td> 10.7279272</td><td>  34.539844</td><td>   0</td><td>12528</td></tr>\n",
       "\t<tr><td>DMSNR_curve_skewness                 </td><td>-1.9769756</td><td> 35.19989860</td><td> 83.126301</td><td>105.5257790</td><td>139.9978498</td><td>1191.000837</td><td> 625</td><td>12528</td></tr>\n",
       "</tbody>\n",
       "</table>\n"
      ],
      "text/latex": [
       "A data.frame: 8 × 9\n",
       "\\begin{tabular}{lllllllll}\n",
       " data\\_type & Minimun & Q1(25\\% percentile) & Median & Mean & Q3(75\\% percentile) & Maximun & number\\_of\\_NA & number\\_of\\_data\\\\\n",
       " <chr> & <dbl> & <dbl> & <dbl> & <dbl> & <dbl> & <dbl> & <int> & <int>\\\\\n",
       "\\hline\n",
       "\t integrated\\_profile\\_mean               &  5.8125000 & 100.87109375 & 115.183594 & 111.0418413 & 127.1093750 &  189.734375 &    0 & 12528\\\\\n",
       "\t integrated\\_profile\\_standard\\_deviation & 24.7720418 &  42.36222228 &  46.931022 &  46.5214373 &  50.9791025 &   91.808628 &    0 & 12528\\\\\n",
       "\t integrated\\_profile\\_kurtosis           & -1.7380208 &   0.02465239 &   0.223678 &   0.4785477 &   0.4731246 &    8.069522 & 1735 & 12528\\\\\n",
       "\t integrated\\_profile\\_skewness           & -1.7918860 &  -0.18814176 &   0.203317 &   1.7784311 &   0.9323738 &   68.101622 &    0 & 12528\\\\\n",
       "\t DMSNR\\_curve\\_mean                      &  0.2132107 &   1.91053512 &   2.792642 &  12.6747578 &   5.4132525 &  222.421405 &    0 & 12528\\\\\n",
       "\t DMSNR\\_curve\\_standard\\_deviation        &  7.3704322 &  14.40435324 &  18.412402 &  26.3513182 &  28.3374185 &  110.642211 & 1178 & 12528\\\\\n",
       "\t DMSNR\\_curve\\_kurtosis                  & -3.1392696 &   5.80306338 &   8.451097 &   8.3334891 &  10.7279272 &   34.539844 &    0 & 12528\\\\\n",
       "\t DMSNR\\_curve\\_skewness                  & -1.9769756 &  35.19989860 &  83.126301 & 105.5257790 & 139.9978498 & 1191.000837 &  625 & 12528\\\\\n",
       "\\end{tabular}\n"
      ],
      "text/markdown": [
       "\n",
       "A data.frame: 8 × 9\n",
       "\n",
       "| data_type &lt;chr&gt; | Minimun &lt;dbl&gt; | Q1(25% percentile) &lt;dbl&gt; | Median &lt;dbl&gt; | Mean &lt;dbl&gt; | Q3(75% percentile) &lt;dbl&gt; | Maximun &lt;dbl&gt; | number_of_NA &lt;int&gt; | number_of_data &lt;int&gt; |\n",
       "|---|---|---|---|---|---|---|---|---|\n",
       "| integrated_profile_mean               |  5.8125000 | 100.87109375 | 115.183594 | 111.0418413 | 127.1093750 |  189.734375 |    0 | 12528 |\n",
       "| integrated_profile_standard_deviation | 24.7720418 |  42.36222228 |  46.931022 |  46.5214373 |  50.9791025 |   91.808628 |    0 | 12528 |\n",
       "| integrated_profile_kurtosis           | -1.7380208 |   0.02465239 |   0.223678 |   0.4785477 |   0.4731246 |    8.069522 | 1735 | 12528 |\n",
       "| integrated_profile_skewness           | -1.7918860 |  -0.18814176 |   0.203317 |   1.7784311 |   0.9323738 |   68.101622 |    0 | 12528 |\n",
       "| DMSNR_curve_mean                      |  0.2132107 |   1.91053512 |   2.792642 |  12.6747578 |   5.4132525 |  222.421405 |    0 | 12528 |\n",
       "| DMSNR_curve_standard_deviation        |  7.3704322 |  14.40435324 |  18.412402 |  26.3513182 |  28.3374185 |  110.642211 | 1178 | 12528 |\n",
       "| DMSNR_curve_kurtosis                  | -3.1392696 |   5.80306338 |   8.451097 |   8.3334891 |  10.7279272 |   34.539844 |    0 | 12528 |\n",
       "| DMSNR_curve_skewness                  | -1.9769756 |  35.19989860 |  83.126301 | 105.5257790 | 139.9978498 | 1191.000837 |  625 | 12528 |\n",
       "\n"
      ],
      "text/plain": [
       "  data_type                             Minimun    Q1(25% percentile)\n",
       "1 integrated_profile_mean                5.8125000 100.87109375      \n",
       "2 integrated_profile_standard_deviation 24.7720418  42.36222228      \n",
       "3 integrated_profile_kurtosis           -1.7380208   0.02465239      \n",
       "4 integrated_profile_skewness           -1.7918860  -0.18814176      \n",
       "5 DMSNR_curve_mean                       0.2132107   1.91053512      \n",
       "6 DMSNR_curve_standard_deviation         7.3704322  14.40435324      \n",
       "7 DMSNR_curve_kurtosis                  -3.1392696   5.80306338      \n",
       "8 DMSNR_curve_skewness                  -1.9769756  35.19989860      \n",
       "  Median     Mean        Q3(75% percentile) Maximun     number_of_NA\n",
       "1 115.183594 111.0418413 127.1093750         189.734375    0        \n",
       "2  46.931022  46.5214373  50.9791025          91.808628    0        \n",
       "3   0.223678   0.4785477   0.4731246           8.069522 1735        \n",
       "4   0.203317   1.7784311   0.9323738          68.101622    0        \n",
       "5   2.792642  12.6747578   5.4132525         222.421405    0        \n",
       "6  18.412402  26.3513182  28.3374185         110.642211 1178        \n",
       "7   8.451097   8.3334891  10.7279272          34.539844    0        \n",
       "8  83.126301 105.5257790 139.9978498        1191.000837  625        \n",
       "  number_of_data\n",
       "1 12528         \n",
       "2 12528         \n",
       "3 12528         \n",
       "4 12528         \n",
       "5 12528         \n",
       "6 12528         \n",
       "7 12528         \n",
       "8 12528         "
      ]
     },
     "metadata": {},
     "output_type": "display_data"
    }
   ],
   "source": [
    "# Create summary table for predictor here\n",
    "\n",
    "#create a data.frame for summary information\n",
    "row_part1 <- data.frame(rbind(summary_column1,summary_column2, summary_column4, summary_column5 ,summary_column7))\n",
    "row_part2 <- select(data.frame(rbind(summary_column3,summary_column6,summary_column8)), -NA.s)\n",
    "predictors_summary <- rbind(row_part1, row_part2)\n",
    "\n",
    "predictors_table <- setNames(cbind(rownames(predictors_summary), predictors_summary, row.names = NULL), \n",
    "         c(\"data_type\", \"Minimun\", \"Q1(25% percentile)\",\n",
    "           \"Median\", \"Mean\", \"Q3(75% percentile)\", \"Maximun\")) %>% #Add name to first column\n",
    "         mutate(n = c(1,2,4,5,7,3,6,8)) %>%\n",
    "         arrange(n) %>%\n",
    "         mutate(data_type = c(\"integrated_profile_mean\",\"integrated_profile_standard_deviation\",\"integrated_profile_kurtosis\",\n",
    "                              \"integrated_profile_skewness\",\"DMSNR_curve_mean\",\"DMSNR_curve_standard_deviation\",\n",
    "                              \"DMSNR_curve_kurtosis\",\"DMSNR_curve_skewness\")) %>%\n",
    "         mutate(number_of_NA = c(na_C1,na_C2,na_C3,na_C4,na_C5,na_C6,na_C7,na_C8)) %>%  #add NA information\n",
    "         mutate(number_of_data = c(n_observation)) %>%#add number of observations\n",
    "         select(-n)#remove useless column\n",
    "predictors_table"
   ]
  },
  {
   "cell_type": "markdown",
   "metadata": {},
   "source": [
    "As we have quantatative data to determine whether it is pulsar, we choose to use the 5 number summary, which dipicts the data. Also, we include the number of NAs in each cell and total observations we have, which provides a clear overview of the data."
   ]
  },
  {
   "cell_type": "code",
   "execution_count": 6,
   "metadata": {},
   "outputs": [
    {
     "name": "stderr",
     "output_type": "stream",
     "text": [
      "`summarise()` ungrouping output (override with `.groups` argument)\n",
      "\n"
     ]
    },
    {
     "data": {
      "text/html": [
       "<table>\n",
       "<caption>A tibble: 2 × 3</caption>\n",
       "<thead>\n",
       "\t<tr><th scope=col>target_class</th><th scope=col>count</th><th scope=col>type</th></tr>\n",
       "\t<tr><th scope=col>&lt;fct&gt;</th><th scope=col>&lt;int&gt;</th><th scope=col>&lt;chr&gt;</th></tr>\n",
       "</thead>\n",
       "<tbody>\n",
       "\t<tr><td>0</td><td>11375</td><td>non-pulsar</td></tr>\n",
       "\t<tr><td>1</td><td> 1153</td><td>pulsar    </td></tr>\n",
       "</tbody>\n",
       "</table>\n"
      ],
      "text/latex": [
       "A tibble: 2 × 3\n",
       "\\begin{tabular}{lll}\n",
       " target\\_class & count & type\\\\\n",
       " <fct> & <int> & <chr>\\\\\n",
       "\\hline\n",
       "\t 0 & 11375 & non-pulsar\\\\\n",
       "\t 1 &  1153 & pulsar    \\\\\n",
       "\\end{tabular}\n"
      ],
      "text/markdown": [
       "\n",
       "A tibble: 2 × 3\n",
       "\n",
       "| target_class &lt;fct&gt; | count &lt;int&gt; | type &lt;chr&gt; |\n",
       "|---|---|---|\n",
       "| 0 | 11375 | non-pulsar |\n",
       "| 1 |  1153 | pulsar     |\n",
       "\n"
      ],
      "text/plain": [
       "  target_class count type      \n",
       "1 0            11375 non-pulsar\n",
       "2 1             1153 pulsar    "
      ]
     },
     "metadata": {},
     "output_type": "display_data"
    }
   ],
   "source": [
    "#Get table for information about Target class\n",
    "class_table <- group_by(pulsar_train_tidy, target_class) %>%\n",
    "               summarize(count=n())\n",
    "name <- c(\"non-pulsar\", \"pulsar\")\n",
    "class_table$type <- name\n",
    "class_table"
   ]
  },
  {
   "cell_type": "markdown",
   "metadata": {},
   "source": [
    "From this table, we can see that in training set, the number of non_pulsar is much more than the pulsar, which reminds us that we needs to also set the same proprotion as here when doing cross_validation later in data analysis."
   ]
  }
 ],
 "metadata": {
  "kernelspec": {
   "display_name": "R",
   "language": "R",
   "name": "ir"
  },
  "language_info": {
   "codemirror_mode": "r",
   "file_extension": ".r",
   "mimetype": "text/x-r-source",
   "name": "R",
   "pygments_lexer": "r",
   "version": "4.0.0"
  }
 },
 "nbformat": 4,
 "nbformat_minor": 4
}
