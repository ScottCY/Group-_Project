{
 "cells": [
  {
   "cell_type": "code",
   "execution_count": 10,
   "metadata": {},
   "outputs": [
    {
     "name": "stderr",
     "output_type": "stream",
     "text": [
      "Parsed with column specification:\n",
      "cols(\n",
      "  integrated_mean = \u001b[32mcol_double()\u001b[39m,\n",
      "  integrated_standard_deviation = \u001b[32mcol_double()\u001b[39m,\n",
      "  integrated_kurtosis = \u001b[32mcol_double()\u001b[39m,\n",
      "  integrated_skewness = \u001b[32mcol_double()\u001b[39m,\n",
      "  curve_mean = \u001b[32mcol_double()\u001b[39m,\n",
      "  curve_standard_deviation = \u001b[32mcol_double()\u001b[39m,\n",
      "  curve_kurtosis = \u001b[32mcol_double()\u001b[39m,\n",
      "  curve_skewness = \u001b[32mcol_double()\u001b[39m,\n",
      "  class = \u001b[32mcol_double()\u001b[39m\n",
      ")\n",
      "\n"
     ]
    },
    {
     "data": {
      "text/html": [
       "<table>\n",
       "<caption>A tibble: 6 × 9</caption>\n",
       "<thead>\n",
       "\t<tr><th scope=col>integrated_mean</th><th scope=col>integrated_standard_deviation</th><th scope=col>integrated_kurtosis</th><th scope=col>integrated_skewness</th><th scope=col>curve_mean</th><th scope=col>curve_standard_deviation</th><th scope=col>curve_kurtosis</th><th scope=col>curve_skewness</th><th scope=col>class</th></tr>\n",
       "\t<tr><th scope=col>&lt;dbl&gt;</th><th scope=col>&lt;dbl&gt;</th><th scope=col>&lt;dbl&gt;</th><th scope=col>&lt;dbl&gt;</th><th scope=col>&lt;dbl&gt;</th><th scope=col>&lt;dbl&gt;</th><th scope=col>&lt;dbl&gt;</th><th scope=col>&lt;dbl&gt;</th><th scope=col>&lt;dbl&gt;</th></tr>\n",
       "</thead>\n",
       "<tbody>\n",
       "\t<tr><td>121.15625</td><td>48.37297</td><td> 0.3754847</td><td>-0.01316549</td><td> 3.168896</td><td>18.39937</td><td>7.449874</td><td> 65.159298</td><td>0</td></tr>\n",
       "\t<tr><td> 76.96875</td><td>36.17556</td><td> 0.7128979</td><td> 3.38871856</td><td> 2.399666</td><td>17.57100</td><td>9.414652</td><td>102.722975</td><td>0</td></tr>\n",
       "\t<tr><td>130.58594</td><td>53.22953</td><td> 0.1334083</td><td>-0.29724164</td><td> 2.743311</td><td>22.36255</td><td>8.508364</td><td> 74.031324</td><td>0</td></tr>\n",
       "\t<tr><td>156.39844</td><td>48.86594</td><td>-0.2159886</td><td>-0.17129365</td><td>17.471572</td><td>      NA</td><td>2.958066</td><td>  7.197842</td><td>0</td></tr>\n",
       "\t<tr><td> 84.80469</td><td>36.11766</td><td> 0.8250128</td><td> 3.27412537</td><td> 2.790134</td><td>20.61801</td><td>8.405008</td><td> 76.291128</td><td>0</td></tr>\n",
       "\t<tr><td>121.00781</td><td>47.17694</td><td> 0.2297081</td><td> 0.09133623</td><td> 2.036789</td><td>      NA</td><td>9.546051</td><td>112.131721</td><td>0</td></tr>\n",
       "</tbody>\n",
       "</table>\n"
      ],
      "text/latex": [
       "A tibble: 6 × 9\n",
       "\\begin{tabular}{lllllllll}\n",
       " integrated\\_mean & integrated\\_standard\\_deviation & integrated\\_kurtosis & integrated\\_skewness & curve\\_mean & curve\\_standard\\_deviation & curve\\_kurtosis & curve\\_skewness & class\\\\\n",
       " <dbl> & <dbl> & <dbl> & <dbl> & <dbl> & <dbl> & <dbl> & <dbl> & <dbl>\\\\\n",
       "\\hline\n",
       "\t 121.15625 & 48.37297 &  0.3754847 & -0.01316549 &  3.168896 & 18.39937 & 7.449874 &  65.159298 & 0\\\\\n",
       "\t  76.96875 & 36.17556 &  0.7128979 &  3.38871856 &  2.399666 & 17.57100 & 9.414652 & 102.722975 & 0\\\\\n",
       "\t 130.58594 & 53.22953 &  0.1334083 & -0.29724164 &  2.743311 & 22.36255 & 8.508364 &  74.031324 & 0\\\\\n",
       "\t 156.39844 & 48.86594 & -0.2159886 & -0.17129365 & 17.471572 &       NA & 2.958066 &   7.197842 & 0\\\\\n",
       "\t  84.80469 & 36.11766 &  0.8250128 &  3.27412537 &  2.790134 & 20.61801 & 8.405008 &  76.291128 & 0\\\\\n",
       "\t 121.00781 & 47.17694 &  0.2297081 &  0.09133623 &  2.036789 &       NA & 9.546051 & 112.131721 & 0\\\\\n",
       "\\end{tabular}\n"
      ],
      "text/markdown": [
       "\n",
       "A tibble: 6 × 9\n",
       "\n",
       "| integrated_mean &lt;dbl&gt; | integrated_standard_deviation &lt;dbl&gt; | integrated_kurtosis &lt;dbl&gt; | integrated_skewness &lt;dbl&gt; | curve_mean &lt;dbl&gt; | curve_standard_deviation &lt;dbl&gt; | curve_kurtosis &lt;dbl&gt; | curve_skewness &lt;dbl&gt; | class &lt;dbl&gt; |\n",
       "|---|---|---|---|---|---|---|---|---|\n",
       "| 121.15625 | 48.37297 |  0.3754847 | -0.01316549 |  3.168896 | 18.39937 | 7.449874 |  65.159298 | 0 |\n",
       "|  76.96875 | 36.17556 |  0.7128979 |  3.38871856 |  2.399666 | 17.57100 | 9.414652 | 102.722975 | 0 |\n",
       "| 130.58594 | 53.22953 |  0.1334083 | -0.29724164 |  2.743311 | 22.36255 | 8.508364 |  74.031324 | 0 |\n",
       "| 156.39844 | 48.86594 | -0.2159886 | -0.17129365 | 17.471572 |       NA | 2.958066 |   7.197842 | 0 |\n",
       "|  84.80469 | 36.11766 |  0.8250128 |  3.27412537 |  2.790134 | 20.61801 | 8.405008 |  76.291128 | 0 |\n",
       "| 121.00781 | 47.17694 |  0.2297081 |  0.09133623 |  2.036789 |       NA | 9.546051 | 112.131721 | 0 |\n",
       "\n"
      ],
      "text/plain": [
       "  integrated_mean integrated_standard_deviation integrated_kurtosis\n",
       "1 121.15625       48.37297                       0.3754847         \n",
       "2  76.96875       36.17556                       0.7128979         \n",
       "3 130.58594       53.22953                       0.1334083         \n",
       "4 156.39844       48.86594                      -0.2159886         \n",
       "5  84.80469       36.11766                       0.8250128         \n",
       "6 121.00781       47.17694                       0.2297081         \n",
       "  integrated_skewness curve_mean curve_standard_deviation curve_kurtosis\n",
       "1 -0.01316549          3.168896  18.39937                 7.449874      \n",
       "2  3.38871856          2.399666  17.57100                 9.414652      \n",
       "3 -0.29724164          2.743311  22.36255                 8.508364      \n",
       "4 -0.17129365         17.471572        NA                 2.958066      \n",
       "5  3.27412537          2.790134  20.61801                 8.405008      \n",
       "6  0.09133623          2.036789        NA                 9.546051      \n",
       "  curve_skewness class\n",
       "1  65.159298     0    \n",
       "2 102.722975     0    \n",
       "3  74.031324     0    \n",
       "4   7.197842     0    \n",
       "5  76.291128     0    \n",
       "6 112.131721     0    "
      ]
     },
     "metadata": {},
     "output_type": "display_data"
    }
   ],
   "source": [
    "library(tidyverse)\n",
    "\n",
    "names = c(\"integrated_mean\", \"integrated_standard_deviation\", \"integrated_kurtosis\", \"integrated_skewness\", \"curve_mean\", \"curve_standard_deviation\", \"curve_kurtosis\", \"curve_skewness\", \"class\")\n",
    "train_data <- read_csv(\"pulsar_data_train.csv\", col_names = names, skip = 1)\n",
    "head(train_data)"
   ]
  }
 ],
 "metadata": {
  "kernelspec": {
   "display_name": "R",
   "language": "R",
   "name": "ir"
  },
  "language_info": {
   "codemirror_mode": "r",
   "file_extension": ".r",
   "mimetype": "text/x-r-source",
   "name": "R",
   "pygments_lexer": "r",
   "version": "4.0.0"
  }
 },
 "nbformat": 4,
 "nbformat_minor": 4
}
