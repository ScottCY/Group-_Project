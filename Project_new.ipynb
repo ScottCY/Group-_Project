{
 "cells": [
  {
   "cell_type": "markdown",
   "metadata": {},
   "source": [
    "# Title: Prediction of Whether a Candidate Star is a Pulsar or not"
   ]
  },
  {
   "cell_type": "markdown",
   "metadata": {},
   "source": [
    "## Section 1: Introduction"
   ]
  },
  {
   "cell_type": "markdown",
   "metadata": {},
   "source": [
    "#### Background Information About Pulsars\n",
    "Pulsars are rotating neutron stars that emit beams of electromagnetic radiation that is detectable on Earth (Wikimedia Foundation, 2021). Scientists use pulsars to investigate the state of matter, measure distance of cosmic objects, and even use them to test the universal force of gravity (Cofield, 2016). Machine learning classifiers are used in studying and labelling of pulsar candidates for an efficient analysis. In particular, the binary classification system is commonly used (Lyon et al., 2016). \n",
    "\n",
    "#### About Our Project\n",
    "In this project, we wish to answer the question that: \n",
    "> Is the unknown star a pulsar based on its value of interested varaibles?\n",
    "\n",
    "#### About Datasets\n",
    "We have a dataset contains 12,528 candidates of pulsar star. Since each pulsar produces slightly different emission patterns as they rotate, each candidate's data is averaged over many rotations of the pulsar (Lyon et al., 2016). Each candidate in the dataset is described 8 continuous variables, and a single class variable. The first four statistics are obtained from integrated pulsar profile, which describe a longitude-resolved version of the signal that has been averaged (Lyon et al., 2016). Variables 5 to 8 are obtained from the DM-SNR curve, where DM is a measure of dispersion signal received and SNR is the signal-to-noise ratio (Lyon et al., 2016). The last variable indicates the class of the candidate. \n",
    "\n",
    "Variables: \n",
    "1. Mean of the integrated profile - the average\n",
    "2. Standard deviation of the integrated profile - a summary measure of the differences of observations from the mean\n",
    "3. Excess kurtosis of the integrated profile - a measure to compare the tail with normal distribution\n",
    "4. Skewness of the integrated profile - a measure of the degree of symmetry\n",
    "5. Mean of the DM-SNR curve - the average\n",
    "6. Standard deviation of the DM-SNR curve - a summary measure of the differences of observations from the mean\n",
    "7. Excess kurtosis of the DM-SNR curve - a measure to compare the tail with normal distribution\n",
    "8. Skewness of the DM-SNR curve - a measure of the degree of symmetry\n",
    "9. Class - class of the candidate\n"
   ]
  },
  {
   "cell_type": "markdown",
   "metadata": {},
   "source": [
    "## Section 2: Preliminary exploratory data analysis\n"
   ]
  },
  {
   "cell_type": "code",
   "execution_count": 1,
   "metadata": {},
   "outputs": [
    {
     "name": "stderr",
     "output_type": "stream",
     "text": [
      "── \u001b[1mAttaching packages\u001b[22m ─────────────────────────────────────── tidyverse 1.3.0 ──\n",
      "\n",
      "\u001b[32m✔\u001b[39m \u001b[34mggplot2\u001b[39m 3.3.2     \u001b[32m✔\u001b[39m \u001b[34mpurrr  \u001b[39m 0.3.4\n",
      "\u001b[32m✔\u001b[39m \u001b[34mtibble \u001b[39m 3.0.3     \u001b[32m✔\u001b[39m \u001b[34mdplyr  \u001b[39m 1.0.2\n",
      "\u001b[32m✔\u001b[39m \u001b[34mtidyr  \u001b[39m 1.1.2     \u001b[32m✔\u001b[39m \u001b[34mstringr\u001b[39m 1.4.0\n",
      "\u001b[32m✔\u001b[39m \u001b[34mreadr  \u001b[39m 1.3.1     \u001b[32m✔\u001b[39m \u001b[34mforcats\u001b[39m 0.5.0\n",
      "\n",
      "Warning message:\n",
      "“package ‘ggplot2’ was built under R version 4.0.1”\n",
      "Warning message:\n",
      "“package ‘tibble’ was built under R version 4.0.2”\n",
      "Warning message:\n",
      "“package ‘tidyr’ was built under R version 4.0.2”\n",
      "Warning message:\n",
      "“package ‘dplyr’ was built under R version 4.0.2”\n",
      "── \u001b[1mConflicts\u001b[22m ────────────────────────────────────────── tidyverse_conflicts() ──\n",
      "\u001b[31m✖\u001b[39m \u001b[34mdplyr\u001b[39m::\u001b[32mfilter()\u001b[39m masks \u001b[34mstats\u001b[39m::filter()\n",
      "\u001b[31m✖\u001b[39m \u001b[34mdplyr\u001b[39m::\u001b[32mlag()\u001b[39m    masks \u001b[34mstats\u001b[39m::lag()\n",
      "\n",
      "Warning message:\n",
      "“package ‘tidymodels’ was built under R version 4.0.2”\n",
      "── \u001b[1mAttaching packages\u001b[22m ────────────────────────────────────── tidymodels 0.1.1 ──\n",
      "\n",
      "\u001b[32m✔\u001b[39m \u001b[34mbroom    \u001b[39m 0.7.0      \u001b[32m✔\u001b[39m \u001b[34mrecipes  \u001b[39m 0.1.13\n",
      "\u001b[32m✔\u001b[39m \u001b[34mdials    \u001b[39m 0.0.9      \u001b[32m✔\u001b[39m \u001b[34mrsample  \u001b[39m 0.0.7 \n",
      "\u001b[32m✔\u001b[39m \u001b[34minfer    \u001b[39m 0.5.4      \u001b[32m✔\u001b[39m \u001b[34mtune     \u001b[39m 0.1.1 \n",
      "\u001b[32m✔\u001b[39m \u001b[34mmodeldata\u001b[39m 0.0.2      \u001b[32m✔\u001b[39m \u001b[34mworkflows\u001b[39m 0.2.0 \n",
      "\u001b[32m✔\u001b[39m \u001b[34mparsnip  \u001b[39m 0.1.3      \u001b[32m✔\u001b[39m \u001b[34myardstick\u001b[39m 0.0.7 \n",
      "\n",
      "Warning message:\n",
      "“package ‘broom’ was built under R version 4.0.2”\n",
      "Warning message:\n",
      "“package ‘dials’ was built under R version 4.0.2”\n",
      "Warning message:\n",
      "“package ‘infer’ was built under R version 4.0.3”\n",
      "Warning message:\n",
      "“package ‘modeldata’ was built under R version 4.0.1”\n",
      "Warning message:\n",
      "“package ‘parsnip’ was built under R version 4.0.2”\n",
      "Warning message:\n",
      "“package ‘recipes’ was built under R version 4.0.1”\n",
      "Warning message:\n",
      "“package ‘tune’ was built under R version 4.0.2”\n",
      "Warning message:\n",
      "“package ‘workflows’ was built under R version 4.0.2”\n",
      "Warning message:\n",
      "“package ‘yardstick’ was built under R version 4.0.2”\n",
      "── \u001b[1mConflicts\u001b[22m ───────────────────────────────────────── tidymodels_conflicts() ──\n",
      "\u001b[31m✖\u001b[39m \u001b[34mscales\u001b[39m::\u001b[32mdiscard()\u001b[39m masks \u001b[34mpurrr\u001b[39m::discard()\n",
      "\u001b[31m✖\u001b[39m \u001b[34mdplyr\u001b[39m::\u001b[32mfilter()\u001b[39m   masks \u001b[34mstats\u001b[39m::filter()\n",
      "\u001b[31m✖\u001b[39m \u001b[34mrecipes\u001b[39m::\u001b[32mfixed()\u001b[39m  masks \u001b[34mstringr\u001b[39m::fixed()\n",
      "\u001b[31m✖\u001b[39m \u001b[34mdplyr\u001b[39m::\u001b[32mlag()\u001b[39m      masks \u001b[34mstats\u001b[39m::lag()\n",
      "\u001b[31m✖\u001b[39m \u001b[34myardstick\u001b[39m::\u001b[32mspec()\u001b[39m masks \u001b[34mreadr\u001b[39m::spec()\n",
      "\u001b[31m✖\u001b[39m \u001b[34mrecipes\u001b[39m::\u001b[32mstep()\u001b[39m   masks \u001b[34mstats\u001b[39m::step()\n",
      "\n"
     ]
    }
   ],
   "source": [
    "# Load library\n",
    "library(tidyverse)\n",
    "library(tidymodels)"
   ]
  },
  {
   "cell_type": "markdown",
   "metadata": {},
   "source": [
    "#### Reading Data into R"
   ]
  },
  {
   "cell_type": "code",
   "execution_count": 2,
   "metadata": {},
   "outputs": [
    {
     "name": "stderr",
     "output_type": "stream",
     "text": [
      "Parsed with column specification:\n",
      "cols(\n",
      "  `Mean of the integrated profile` = \u001b[32mcol_double()\u001b[39m,\n",
      "  `Standard deviation of the integrated profile` = \u001b[32mcol_double()\u001b[39m,\n",
      "  `Excess kurtosis of the integrated profile` = \u001b[32mcol_double()\u001b[39m,\n",
      "  `Skewness of the integrated profile` = \u001b[32mcol_double()\u001b[39m,\n",
      "  `Mean of the DM-SNR curve` = \u001b[32mcol_double()\u001b[39m,\n",
      "  `Standard deviation of the DM-SNR curve` = \u001b[32mcol_double()\u001b[39m,\n",
      "  `Excess kurtosis of the DM-SNR curve` = \u001b[32mcol_double()\u001b[39m,\n",
      "  `Skewness of the DM-SNR curve` = \u001b[32mcol_double()\u001b[39m,\n",
      "  target_class = \u001b[32mcol_double()\u001b[39m\n",
      ")\n",
      "\n"
     ]
    },
    {
     "data": {
      "text/html": [
       "<table>\n",
       "<caption>A tibble: 6 × 9</caption>\n",
       "<thead>\n",
       "\t<tr><th scope=col>Mean of the integrated profile</th><th scope=col>Standard deviation of the integrated profile</th><th scope=col>Excess kurtosis of the integrated profile</th><th scope=col>Skewness of the integrated profile</th><th scope=col>Mean of the DM-SNR curve</th><th scope=col>Standard deviation of the DM-SNR curve</th><th scope=col>Excess kurtosis of the DM-SNR curve</th><th scope=col>Skewness of the DM-SNR curve</th><th scope=col>target_class</th></tr>\n",
       "\t<tr><th scope=col>&lt;dbl&gt;</th><th scope=col>&lt;dbl&gt;</th><th scope=col>&lt;dbl&gt;</th><th scope=col>&lt;dbl&gt;</th><th scope=col>&lt;dbl&gt;</th><th scope=col>&lt;dbl&gt;</th><th scope=col>&lt;dbl&gt;</th><th scope=col>&lt;dbl&gt;</th><th scope=col>&lt;dbl&gt;</th></tr>\n",
       "</thead>\n",
       "<tbody>\n",
       "\t<tr><td>121.15625</td><td>48.37297</td><td> 0.3754847</td><td>-0.01316549</td><td> 3.168896</td><td>18.39937</td><td>7.449874</td><td> 65.159298</td><td>0</td></tr>\n",
       "\t<tr><td> 76.96875</td><td>36.17556</td><td> 0.7128979</td><td> 3.38871856</td><td> 2.399666</td><td>17.57100</td><td>9.414652</td><td>102.722975</td><td>0</td></tr>\n",
       "\t<tr><td>130.58594</td><td>53.22953</td><td> 0.1334083</td><td>-0.29724164</td><td> 2.743311</td><td>22.36255</td><td>8.508364</td><td> 74.031324</td><td>0</td></tr>\n",
       "\t<tr><td>156.39844</td><td>48.86594</td><td>-0.2159886</td><td>-0.17129365</td><td>17.471572</td><td>      NA</td><td>2.958066</td><td>  7.197842</td><td>0</td></tr>\n",
       "\t<tr><td> 84.80469</td><td>36.11766</td><td> 0.8250128</td><td> 3.27412537</td><td> 2.790134</td><td>20.61801</td><td>8.405008</td><td> 76.291128</td><td>0</td></tr>\n",
       "\t<tr><td>121.00781</td><td>47.17694</td><td> 0.2297081</td><td> 0.09133623</td><td> 2.036789</td><td>      NA</td><td>9.546051</td><td>112.131721</td><td>0</td></tr>\n",
       "</tbody>\n",
       "</table>\n"
      ],
      "text/latex": [
       "A tibble: 6 × 9\n",
       "\\begin{tabular}{lllllllll}\n",
       " Mean of the integrated profile & Standard deviation of the integrated profile & Excess kurtosis of the integrated profile & Skewness of the integrated profile & Mean of the DM-SNR curve & Standard deviation of the DM-SNR curve & Excess kurtosis of the DM-SNR curve & Skewness of the DM-SNR curve & target\\_class\\\\\n",
       " <dbl> & <dbl> & <dbl> & <dbl> & <dbl> & <dbl> & <dbl> & <dbl> & <dbl>\\\\\n",
       "\\hline\n",
       "\t 121.15625 & 48.37297 &  0.3754847 & -0.01316549 &  3.168896 & 18.39937 & 7.449874 &  65.159298 & 0\\\\\n",
       "\t  76.96875 & 36.17556 &  0.7128979 &  3.38871856 &  2.399666 & 17.57100 & 9.414652 & 102.722975 & 0\\\\\n",
       "\t 130.58594 & 53.22953 &  0.1334083 & -0.29724164 &  2.743311 & 22.36255 & 8.508364 &  74.031324 & 0\\\\\n",
       "\t 156.39844 & 48.86594 & -0.2159886 & -0.17129365 & 17.471572 &       NA & 2.958066 &   7.197842 & 0\\\\\n",
       "\t  84.80469 & 36.11766 &  0.8250128 &  3.27412537 &  2.790134 & 20.61801 & 8.405008 &  76.291128 & 0\\\\\n",
       "\t 121.00781 & 47.17694 &  0.2297081 &  0.09133623 &  2.036789 &       NA & 9.546051 & 112.131721 & 0\\\\\n",
       "\\end{tabular}\n"
      ],
      "text/markdown": [
       "\n",
       "A tibble: 6 × 9\n",
       "\n",
       "| Mean of the integrated profile &lt;dbl&gt; | Standard deviation of the integrated profile &lt;dbl&gt; | Excess kurtosis of the integrated profile &lt;dbl&gt; | Skewness of the integrated profile &lt;dbl&gt; | Mean of the DM-SNR curve &lt;dbl&gt; | Standard deviation of the DM-SNR curve &lt;dbl&gt; | Excess kurtosis of the DM-SNR curve &lt;dbl&gt; | Skewness of the DM-SNR curve &lt;dbl&gt; | target_class &lt;dbl&gt; |\n",
       "|---|---|---|---|---|---|---|---|---|\n",
       "| 121.15625 | 48.37297 |  0.3754847 | -0.01316549 |  3.168896 | 18.39937 | 7.449874 |  65.159298 | 0 |\n",
       "|  76.96875 | 36.17556 |  0.7128979 |  3.38871856 |  2.399666 | 17.57100 | 9.414652 | 102.722975 | 0 |\n",
       "| 130.58594 | 53.22953 |  0.1334083 | -0.29724164 |  2.743311 | 22.36255 | 8.508364 |  74.031324 | 0 |\n",
       "| 156.39844 | 48.86594 | -0.2159886 | -0.17129365 | 17.471572 |       NA | 2.958066 |   7.197842 | 0 |\n",
       "|  84.80469 | 36.11766 |  0.8250128 |  3.27412537 |  2.790134 | 20.61801 | 8.405008 |  76.291128 | 0 |\n",
       "| 121.00781 | 47.17694 |  0.2297081 |  0.09133623 |  2.036789 |       NA | 9.546051 | 112.131721 | 0 |\n",
       "\n"
      ],
      "text/plain": [
       "  Mean of the integrated profile Standard deviation of the integrated profile\n",
       "1 121.15625                      48.37297                                    \n",
       "2  76.96875                      36.17556                                    \n",
       "3 130.58594                      53.22953                                    \n",
       "4 156.39844                      48.86594                                    \n",
       "5  84.80469                      36.11766                                    \n",
       "6 121.00781                      47.17694                                    \n",
       "  Excess kurtosis of the integrated profile Skewness of the integrated profile\n",
       "1  0.3754847                                -0.01316549                       \n",
       "2  0.7128979                                 3.38871856                       \n",
       "3  0.1334083                                -0.29724164                       \n",
       "4 -0.2159886                                -0.17129365                       \n",
       "5  0.8250128                                 3.27412537                       \n",
       "6  0.2297081                                 0.09133623                       \n",
       "  Mean of the DM-SNR curve Standard deviation of the DM-SNR curve\n",
       "1  3.168896                18.39937                              \n",
       "2  2.399666                17.57100                              \n",
       "3  2.743311                22.36255                              \n",
       "4 17.471572                      NA                              \n",
       "5  2.790134                20.61801                              \n",
       "6  2.036789                      NA                              \n",
       "  Excess kurtosis of the DM-SNR curve Skewness of the DM-SNR curve target_class\n",
       "1 7.449874                             65.159298                   0           \n",
       "2 9.414652                            102.722975                   0           \n",
       "3 8.508364                             74.031324                   0           \n",
       "4 2.958066                              7.197842                   0           \n",
       "5 8.405008                             76.291128                   0           \n",
       "6 9.546051                            112.131721                   0           "
      ]
     },
     "metadata": {},
     "output_type": "display_data"
    },
    {
     "name": "stderr",
     "output_type": "stream",
     "text": [
      "Parsed with column specification:\n",
      "cols(\n",
      "  `Mean of the integrated profile` = \u001b[32mcol_double()\u001b[39m,\n",
      "  `Standard deviation of the integrated profile` = \u001b[32mcol_double()\u001b[39m,\n",
      "  `Excess kurtosis of the integrated profile` = \u001b[32mcol_double()\u001b[39m,\n",
      "  `Skewness of the integrated profile` = \u001b[32mcol_double()\u001b[39m,\n",
      "  `Mean of the DM-SNR curve` = \u001b[32mcol_double()\u001b[39m,\n",
      "  `Standard deviation of the DM-SNR curve` = \u001b[32mcol_double()\u001b[39m,\n",
      "  `Excess kurtosis of the DM-SNR curve` = \u001b[32mcol_double()\u001b[39m,\n",
      "  `Skewness of the DM-SNR curve` = \u001b[32mcol_double()\u001b[39m,\n",
      "  target_class = \u001b[33mcol_logical()\u001b[39m\n",
      ")\n",
      "\n"
     ]
    },
    {
     "data": {
      "text/html": [
       "<table>\n",
       "<caption>A tibble: 6 × 9</caption>\n",
       "<thead>\n",
       "\t<tr><th scope=col>Mean of the integrated profile</th><th scope=col>Standard deviation of the integrated profile</th><th scope=col>Excess kurtosis of the integrated profile</th><th scope=col>Skewness of the integrated profile</th><th scope=col>Mean of the DM-SNR curve</th><th scope=col>Standard deviation of the DM-SNR curve</th><th scope=col>Excess kurtosis of the DM-SNR curve</th><th scope=col>Skewness of the DM-SNR curve</th><th scope=col>target_class</th></tr>\n",
       "\t<tr><th scope=col>&lt;dbl&gt;</th><th scope=col>&lt;dbl&gt;</th><th scope=col>&lt;dbl&gt;</th><th scope=col>&lt;dbl&gt;</th><th scope=col>&lt;dbl&gt;</th><th scope=col>&lt;dbl&gt;</th><th scope=col>&lt;dbl&gt;</th><th scope=col>&lt;dbl&gt;</th><th scope=col>&lt;lgl&gt;</th></tr>\n",
       "</thead>\n",
       "<tbody>\n",
       "\t<tr><td>116.90625</td><td>48.92060</td><td>0.1860463</td><td>-0.1298151</td><td> 3.037625</td><td>17.73710</td><td>8.1226208</td><td> 78.813405</td><td>NA</td></tr>\n",
       "\t<tr><td> 75.58594</td><td>34.38625</td><td>2.0254984</td><td> 8.6529130</td><td> 3.765050</td><td>21.89705</td><td>7.0481886</td><td> 55.878791</td><td>NA</td></tr>\n",
       "\t<tr><td>103.27344</td><td>46.99663</td><td>0.5042952</td><td> 0.8210883</td><td> 2.244983</td><td>15.62257</td><td>9.3304985</td><td>105.134942</td><td>NA</td></tr>\n",
       "\t<tr><td>101.07812</td><td>48.58749</td><td>1.0114270</td><td> 1.1518699</td><td>81.887960</td><td>81.46414</td><td>0.4851051</td><td> -1.117904</td><td>NA</td></tr>\n",
       "\t<tr><td>113.22656</td><td>48.60880</td><td>0.2915380</td><td> 0.2921203</td><td> 6.291806</td><td>26.58506</td><td>4.5401376</td><td> 21.708268</td><td>NA</td></tr>\n",
       "\t<tr><td> 85.47656</td><td>38.05279</td><td>       NA</td><td> 1.9150973</td><td> 2.637124</td><td>      NA</td><td>9.0015001</td><td>        NA</td><td>NA</td></tr>\n",
       "</tbody>\n",
       "</table>\n"
      ],
      "text/latex": [
       "A tibble: 6 × 9\n",
       "\\begin{tabular}{lllllllll}\n",
       " Mean of the integrated profile & Standard deviation of the integrated profile & Excess kurtosis of the integrated profile & Skewness of the integrated profile & Mean of the DM-SNR curve & Standard deviation of the DM-SNR curve & Excess kurtosis of the DM-SNR curve & Skewness of the DM-SNR curve & target\\_class\\\\\n",
       " <dbl> & <dbl> & <dbl> & <dbl> & <dbl> & <dbl> & <dbl> & <dbl> & <lgl>\\\\\n",
       "\\hline\n",
       "\t 116.90625 & 48.92060 & 0.1860463 & -0.1298151 &  3.037625 & 17.73710 & 8.1226208 &  78.813405 & NA\\\\\n",
       "\t  75.58594 & 34.38625 & 2.0254984 &  8.6529130 &  3.765050 & 21.89705 & 7.0481886 &  55.878791 & NA\\\\\n",
       "\t 103.27344 & 46.99663 & 0.5042952 &  0.8210883 &  2.244983 & 15.62257 & 9.3304985 & 105.134942 & NA\\\\\n",
       "\t 101.07812 & 48.58749 & 1.0114270 &  1.1518699 & 81.887960 & 81.46414 & 0.4851051 &  -1.117904 & NA\\\\\n",
       "\t 113.22656 & 48.60880 & 0.2915380 &  0.2921203 &  6.291806 & 26.58506 & 4.5401376 &  21.708268 & NA\\\\\n",
       "\t  85.47656 & 38.05279 &        NA &  1.9150973 &  2.637124 &       NA & 9.0015001 &         NA & NA\\\\\n",
       "\\end{tabular}\n"
      ],
      "text/markdown": [
       "\n",
       "A tibble: 6 × 9\n",
       "\n",
       "| Mean of the integrated profile &lt;dbl&gt; | Standard deviation of the integrated profile &lt;dbl&gt; | Excess kurtosis of the integrated profile &lt;dbl&gt; | Skewness of the integrated profile &lt;dbl&gt; | Mean of the DM-SNR curve &lt;dbl&gt; | Standard deviation of the DM-SNR curve &lt;dbl&gt; | Excess kurtosis of the DM-SNR curve &lt;dbl&gt; | Skewness of the DM-SNR curve &lt;dbl&gt; | target_class &lt;lgl&gt; |\n",
       "|---|---|---|---|---|---|---|---|---|\n",
       "| 116.90625 | 48.92060 | 0.1860463 | -0.1298151 |  3.037625 | 17.73710 | 8.1226208 |  78.813405 | NA |\n",
       "|  75.58594 | 34.38625 | 2.0254984 |  8.6529130 |  3.765050 | 21.89705 | 7.0481886 |  55.878791 | NA |\n",
       "| 103.27344 | 46.99663 | 0.5042952 |  0.8210883 |  2.244983 | 15.62257 | 9.3304985 | 105.134942 | NA |\n",
       "| 101.07812 | 48.58749 | 1.0114270 |  1.1518699 | 81.887960 | 81.46414 | 0.4851051 |  -1.117904 | NA |\n",
       "| 113.22656 | 48.60880 | 0.2915380 |  0.2921203 |  6.291806 | 26.58506 | 4.5401376 |  21.708268 | NA |\n",
       "|  85.47656 | 38.05279 |        NA |  1.9150973 |  2.637124 |       NA | 9.0015001 |         NA | NA |\n",
       "\n"
      ],
      "text/plain": [
       "  Mean of the integrated profile Standard deviation of the integrated profile\n",
       "1 116.90625                      48.92060                                    \n",
       "2  75.58594                      34.38625                                    \n",
       "3 103.27344                      46.99663                                    \n",
       "4 101.07812                      48.58749                                    \n",
       "5 113.22656                      48.60880                                    \n",
       "6  85.47656                      38.05279                                    \n",
       "  Excess kurtosis of the integrated profile Skewness of the integrated profile\n",
       "1 0.1860463                                 -0.1298151                        \n",
       "2 2.0254984                                  8.6529130                        \n",
       "3 0.5042952                                  0.8210883                        \n",
       "4 1.0114270                                  1.1518699                        \n",
       "5 0.2915380                                  0.2921203                        \n",
       "6        NA                                  1.9150973                        \n",
       "  Mean of the DM-SNR curve Standard deviation of the DM-SNR curve\n",
       "1  3.037625                17.73710                              \n",
       "2  3.765050                21.89705                              \n",
       "3  2.244983                15.62257                              \n",
       "4 81.887960                81.46414                              \n",
       "5  6.291806                26.58506                              \n",
       "6  2.637124                      NA                              \n",
       "  Excess kurtosis of the DM-SNR curve Skewness of the DM-SNR curve target_class\n",
       "1 8.1226208                            78.813405                   NA          \n",
       "2 7.0481886                            55.878791                   NA          \n",
       "3 9.3304985                           105.134942                   NA          \n",
       "4 0.4851051                            -1.117904                   NA          \n",
       "5 4.5401376                            21.708268                   NA          \n",
       "6 9.0015001                                   NA                   NA          "
      ]
     },
     "metadata": {},
     "output_type": "display_data"
    }
   ],
   "source": [
    "pulsar_train <- read_csv(\"https://raw.githubusercontent.com/ScottCY/Group-_Project/main/pulsar_data_train.csv\")\n",
    "head(pulsar_train)\n",
    "pulsar_test <- read_csv(\"https://raw.githubusercontent.com/ScottCY/Group-_Project/main/pulsar_data_test.csv\")\n",
    "head(pulsar_test)"
   ]
  },
  {
   "cell_type": "markdown",
   "metadata": {},
   "source": [
    "By looking at these two dataset given, we can see that the testing dataset has only NA value in it. Therefore, we have no way to see how accurate our classifier is after the training process. Hence, we would devide the training set into training and testing by ourselves to do this classfication. The reason for us to choose prop = 0.75 in initial_split is because 0.75 is a great prop that gives us enough data for both training and testing dataset."
   ]
  },
  {
   "cell_type": "markdown",
   "metadata": {},
   "source": [
    "#### Tidy Format"
   ]
  },
  {
   "cell_type": "code",
   "execution_count": 3,
   "metadata": {},
   "outputs": [
    {
     "data": {
      "text/html": [
       "<table>\n",
       "<caption>A tibble: 6 × 9</caption>\n",
       "<thead>\n",
       "\t<tr><th scope=col>integrated_profile_mean</th><th scope=col>integrated_profile_standard_deviation</th><th scope=col>integrated_profile_kurtosis</th><th scope=col>integrated_profile_skewness</th><th scope=col>DMSNR_curve_mean</th><th scope=col>DMSNR_curve_standard_deviation</th><th scope=col>DMSNR_curve_kurtosis</th><th scope=col>DMSNR_curve_skewness</th><th scope=col>target_class</th></tr>\n",
       "\t<tr><th scope=col>&lt;dbl&gt;</th><th scope=col>&lt;dbl&gt;</th><th scope=col>&lt;dbl&gt;</th><th scope=col>&lt;dbl&gt;</th><th scope=col>&lt;dbl&gt;</th><th scope=col>&lt;dbl&gt;</th><th scope=col>&lt;dbl&gt;</th><th scope=col>&lt;dbl&gt;</th><th scope=col>&lt;fct&gt;</th></tr>\n",
       "</thead>\n",
       "<tbody>\n",
       "\t<tr><td>130.58594</td><td>53.22953</td><td> 0.1334083</td><td>-0.29724164</td><td> 2.743311</td><td>22.36255</td><td>8.508364</td><td>74.031324</td><td>0</td></tr>\n",
       "\t<tr><td>156.39844</td><td>48.86594</td><td>-0.2159886</td><td>-0.17129365</td><td>17.471572</td><td>      NA</td><td>2.958066</td><td> 7.197842</td><td>0</td></tr>\n",
       "\t<tr><td> 84.80469</td><td>36.11766</td><td> 0.8250128</td><td> 3.27412537</td><td> 2.790134</td><td>20.61801</td><td>8.405008</td><td>76.291128</td><td>0</td></tr>\n",
       "\t<tr><td>109.40625</td><td>55.91252</td><td> 0.5651059</td><td> 0.05624666</td><td> 2.797659</td><td>19.49653</td><td>9.443282</td><td>97.374578</td><td>0</td></tr>\n",
       "\t<tr><td> 95.00781</td><td>40.21981</td><td> 0.3475781</td><td> 1.15316438</td><td> 2.770067</td><td>18.21774</td><td>7.851205</td><td>70.801938</td><td>0</td></tr>\n",
       "\t<tr><td>109.15625</td><td>47.00223</td><td> 0.3941818</td><td> 0.19029569</td><td> 4.578595</td><td>      NA</td><td>5.702532</td><td>36.342493</td><td>0</td></tr>\n",
       "</tbody>\n",
       "</table>\n"
      ],
      "text/latex": [
       "A tibble: 6 × 9\n",
       "\\begin{tabular}{lllllllll}\n",
       " integrated\\_profile\\_mean & integrated\\_profile\\_standard\\_deviation & integrated\\_profile\\_kurtosis & integrated\\_profile\\_skewness & DMSNR\\_curve\\_mean & DMSNR\\_curve\\_standard\\_deviation & DMSNR\\_curve\\_kurtosis & DMSNR\\_curve\\_skewness & target\\_class\\\\\n",
       " <dbl> & <dbl> & <dbl> & <dbl> & <dbl> & <dbl> & <dbl> & <dbl> & <fct>\\\\\n",
       "\\hline\n",
       "\t 130.58594 & 53.22953 &  0.1334083 & -0.29724164 &  2.743311 & 22.36255 & 8.508364 & 74.031324 & 0\\\\\n",
       "\t 156.39844 & 48.86594 & -0.2159886 & -0.17129365 & 17.471572 &       NA & 2.958066 &  7.197842 & 0\\\\\n",
       "\t  84.80469 & 36.11766 &  0.8250128 &  3.27412537 &  2.790134 & 20.61801 & 8.405008 & 76.291128 & 0\\\\\n",
       "\t 109.40625 & 55.91252 &  0.5651059 &  0.05624666 &  2.797659 & 19.49653 & 9.443282 & 97.374578 & 0\\\\\n",
       "\t  95.00781 & 40.21981 &  0.3475781 &  1.15316438 &  2.770067 & 18.21774 & 7.851205 & 70.801938 & 0\\\\\n",
       "\t 109.15625 & 47.00223 &  0.3941818 &  0.19029569 &  4.578595 &       NA & 5.702532 & 36.342493 & 0\\\\\n",
       "\\end{tabular}\n"
      ],
      "text/markdown": [
       "\n",
       "A tibble: 6 × 9\n",
       "\n",
       "| integrated_profile_mean &lt;dbl&gt; | integrated_profile_standard_deviation &lt;dbl&gt; | integrated_profile_kurtosis &lt;dbl&gt; | integrated_profile_skewness &lt;dbl&gt; | DMSNR_curve_mean &lt;dbl&gt; | DMSNR_curve_standard_deviation &lt;dbl&gt; | DMSNR_curve_kurtosis &lt;dbl&gt; | DMSNR_curve_skewness &lt;dbl&gt; | target_class &lt;fct&gt; |\n",
       "|---|---|---|---|---|---|---|---|---|\n",
       "| 130.58594 | 53.22953 |  0.1334083 | -0.29724164 |  2.743311 | 22.36255 | 8.508364 | 74.031324 | 0 |\n",
       "| 156.39844 | 48.86594 | -0.2159886 | -0.17129365 | 17.471572 |       NA | 2.958066 |  7.197842 | 0 |\n",
       "|  84.80469 | 36.11766 |  0.8250128 |  3.27412537 |  2.790134 | 20.61801 | 8.405008 | 76.291128 | 0 |\n",
       "| 109.40625 | 55.91252 |  0.5651059 |  0.05624666 |  2.797659 | 19.49653 | 9.443282 | 97.374578 | 0 |\n",
       "|  95.00781 | 40.21981 |  0.3475781 |  1.15316438 |  2.770067 | 18.21774 | 7.851205 | 70.801938 | 0 |\n",
       "| 109.15625 | 47.00223 |  0.3941818 |  0.19029569 |  4.578595 |       NA | 5.702532 | 36.342493 | 0 |\n",
       "\n"
      ],
      "text/plain": [
       "  integrated_profile_mean integrated_profile_standard_deviation\n",
       "1 130.58594               53.22953                             \n",
       "2 156.39844               48.86594                             \n",
       "3  84.80469               36.11766                             \n",
       "4 109.40625               55.91252                             \n",
       "5  95.00781               40.21981                             \n",
       "6 109.15625               47.00223                             \n",
       "  integrated_profile_kurtosis integrated_profile_skewness DMSNR_curve_mean\n",
       "1  0.1334083                  -0.29724164                  2.743311       \n",
       "2 -0.2159886                  -0.17129365                 17.471572       \n",
       "3  0.8250128                   3.27412537                  2.790134       \n",
       "4  0.5651059                   0.05624666                  2.797659       \n",
       "5  0.3475781                   1.15316438                  2.770067       \n",
       "6  0.3941818                   0.19029569                  4.578595       \n",
       "  DMSNR_curve_standard_deviation DMSNR_curve_kurtosis DMSNR_curve_skewness\n",
       "1 22.36255                       8.508364             74.031324           \n",
       "2       NA                       2.958066              7.197842           \n",
       "3 20.61801                       8.405008             76.291128           \n",
       "4 19.49653                       9.443282             97.374578           \n",
       "5 18.21774                       7.851205             70.801938           \n",
       "6       NA                       5.702532             36.342493           \n",
       "  target_class\n",
       "1 0           \n",
       "2 0           \n",
       "3 0           \n",
       "4 0           \n",
       "5 0           \n",
       "6 0           "
      ]
     },
     "metadata": {},
     "output_type": "display_data"
    },
    {
     "data": {
      "text/html": [
       "<table>\n",
       "<caption>A tibble: 6 × 9</caption>\n",
       "<thead>\n",
       "\t<tr><th scope=col>integrated_profile_mean</th><th scope=col>integrated_profile_standard_deviation</th><th scope=col>integrated_profile_kurtosis</th><th scope=col>integrated_profile_skewness</th><th scope=col>DMSNR_curve_mean</th><th scope=col>DMSNR_curve_standard_deviation</th><th scope=col>DMSNR_curve_kurtosis</th><th scope=col>DMSNR_curve_skewness</th><th scope=col>target_class</th></tr>\n",
       "\t<tr><th scope=col>&lt;dbl&gt;</th><th scope=col>&lt;dbl&gt;</th><th scope=col>&lt;dbl&gt;</th><th scope=col>&lt;dbl&gt;</th><th scope=col>&lt;dbl&gt;</th><th scope=col>&lt;dbl&gt;</th><th scope=col>&lt;dbl&gt;</th><th scope=col>&lt;dbl&gt;</th><th scope=col>&lt;fct&gt;</th></tr>\n",
       "</thead>\n",
       "<tbody>\n",
       "\t<tr><td>121.15625</td><td>48.37297</td><td>0.37548466</td><td>-0.01316549</td><td>  3.168896</td><td>18.39937</td><td> 7.4498741</td><td> 65.159298</td><td>0</td></tr>\n",
       "\t<tr><td> 76.96875</td><td>36.17556</td><td>0.71289786</td><td> 3.38871856</td><td>  2.399666</td><td>17.57100</td><td> 9.4146523</td><td>102.722975</td><td>0</td></tr>\n",
       "\t<tr><td>121.00781</td><td>47.17694</td><td>0.22970813</td><td> 0.09133623</td><td>  2.036789</td><td>      NA</td><td> 9.5460511</td><td>112.131721</td><td>0</td></tr>\n",
       "\t<tr><td> 79.34375</td><td>42.40217</td><td>1.06341291</td><td> 2.24437669</td><td>141.641304</td><td>      NA</td><td>-0.7008088</td><td> -1.200653</td><td>0</td></tr>\n",
       "\t<tr><td>128.73438</td><td>48.69556</td><td>        NA</td><td> 0.30780294</td><td>  5.307692</td><td>25.16230</td><td> 5.4975439</td><td> 32.739833</td><td>0</td></tr>\n",
       "\t<tr><td>133.12500</td><td>59.95728</td><td>0.01285505</td><td>-0.80489024</td><td> 31.553512</td><td>65.23625</td><td> 1.7351796</td><td>  1.358508</td><td>0</td></tr>\n",
       "</tbody>\n",
       "</table>\n"
      ],
      "text/latex": [
       "A tibble: 6 × 9\n",
       "\\begin{tabular}{lllllllll}\n",
       " integrated\\_profile\\_mean & integrated\\_profile\\_standard\\_deviation & integrated\\_profile\\_kurtosis & integrated\\_profile\\_skewness & DMSNR\\_curve\\_mean & DMSNR\\_curve\\_standard\\_deviation & DMSNR\\_curve\\_kurtosis & DMSNR\\_curve\\_skewness & target\\_class\\\\\n",
       " <dbl> & <dbl> & <dbl> & <dbl> & <dbl> & <dbl> & <dbl> & <dbl> & <fct>\\\\\n",
       "\\hline\n",
       "\t 121.15625 & 48.37297 & 0.37548466 & -0.01316549 &   3.168896 & 18.39937 &  7.4498741 &  65.159298 & 0\\\\\n",
       "\t  76.96875 & 36.17556 & 0.71289786 &  3.38871856 &   2.399666 & 17.57100 &  9.4146523 & 102.722975 & 0\\\\\n",
       "\t 121.00781 & 47.17694 & 0.22970813 &  0.09133623 &   2.036789 &       NA &  9.5460511 & 112.131721 & 0\\\\\n",
       "\t  79.34375 & 42.40217 & 1.06341291 &  2.24437669 & 141.641304 &       NA & -0.7008088 &  -1.200653 & 0\\\\\n",
       "\t 128.73438 & 48.69556 &         NA &  0.30780294 &   5.307692 & 25.16230 &  5.4975439 &  32.739833 & 0\\\\\n",
       "\t 133.12500 & 59.95728 & 0.01285505 & -0.80489024 &  31.553512 & 65.23625 &  1.7351796 &   1.358508 & 0\\\\\n",
       "\\end{tabular}\n"
      ],
      "text/markdown": [
       "\n",
       "A tibble: 6 × 9\n",
       "\n",
       "| integrated_profile_mean &lt;dbl&gt; | integrated_profile_standard_deviation &lt;dbl&gt; | integrated_profile_kurtosis &lt;dbl&gt; | integrated_profile_skewness &lt;dbl&gt; | DMSNR_curve_mean &lt;dbl&gt; | DMSNR_curve_standard_deviation &lt;dbl&gt; | DMSNR_curve_kurtosis &lt;dbl&gt; | DMSNR_curve_skewness &lt;dbl&gt; | target_class &lt;fct&gt; |\n",
       "|---|---|---|---|---|---|---|---|---|\n",
       "| 121.15625 | 48.37297 | 0.37548466 | -0.01316549 |   3.168896 | 18.39937 |  7.4498741 |  65.159298 | 0 |\n",
       "|  76.96875 | 36.17556 | 0.71289786 |  3.38871856 |   2.399666 | 17.57100 |  9.4146523 | 102.722975 | 0 |\n",
       "| 121.00781 | 47.17694 | 0.22970813 |  0.09133623 |   2.036789 |       NA |  9.5460511 | 112.131721 | 0 |\n",
       "|  79.34375 | 42.40217 | 1.06341291 |  2.24437669 | 141.641304 |       NA | -0.7008088 |  -1.200653 | 0 |\n",
       "| 128.73438 | 48.69556 |         NA |  0.30780294 |   5.307692 | 25.16230 |  5.4975439 |  32.739833 | 0 |\n",
       "| 133.12500 | 59.95728 | 0.01285505 | -0.80489024 |  31.553512 | 65.23625 |  1.7351796 |   1.358508 | 0 |\n",
       "\n"
      ],
      "text/plain": [
       "  integrated_profile_mean integrated_profile_standard_deviation\n",
       "1 121.15625               48.37297                             \n",
       "2  76.96875               36.17556                             \n",
       "3 121.00781               47.17694                             \n",
       "4  79.34375               42.40217                             \n",
       "5 128.73438               48.69556                             \n",
       "6 133.12500               59.95728                             \n",
       "  integrated_profile_kurtosis integrated_profile_skewness DMSNR_curve_mean\n",
       "1 0.37548466                  -0.01316549                   3.168896      \n",
       "2 0.71289786                   3.38871856                   2.399666      \n",
       "3 0.22970813                   0.09133623                   2.036789      \n",
       "4 1.06341291                   2.24437669                 141.641304      \n",
       "5         NA                   0.30780294                   5.307692      \n",
       "6 0.01285505                  -0.80489024                  31.553512      \n",
       "  DMSNR_curve_standard_deviation DMSNR_curve_kurtosis DMSNR_curve_skewness\n",
       "1 18.39937                        7.4498741            65.159298          \n",
       "2 17.57100                        9.4146523           102.722975          \n",
       "3       NA                        9.5460511           112.131721          \n",
       "4       NA                       -0.7008088            -1.200653          \n",
       "5 25.16230                        5.4975439            32.739833          \n",
       "6 65.23625                        1.7351796             1.358508          \n",
       "  target_class\n",
       "1 0           \n",
       "2 0           \n",
       "3 0           \n",
       "4 0           \n",
       "5 0           \n",
       "6 0           "
      ]
     },
     "metadata": {},
     "output_type": "display_data"
    }
   ],
   "source": [
    "#The data is already in tidy format. \n",
    "#We rename the column names and change the category of target_class to factor to make it more consise.\n",
    "\n",
    "set.seed(100)\n",
    "pulsar_data <- rename(pulsar_train, integrated_profile_mean = `Mean of the integrated profile`,\n",
    "                                integrated_profile_standard_deviation = `Standard deviation of the integrated profile`,\n",
    "                                 integrated_profile_kurtosis = `Excess kurtosis of the integrated profile`,\n",
    "                                 integrated_profile_skewness = `Skewness of the integrated profile`,\n",
    "                                 DMSNR_curve_mean = `Mean of the DM-SNR curve`,\n",
    "                                 DMSNR_curve_standard_deviation = `Standard deviation of the DM-SNR curve`,\n",
    "                                 DMSNR_curve_kurtosis = `Excess kurtosis of the DM-SNR curve`,\n",
    "                                 DMSNR_curve_skewness = `Skewness of the DM-SNR curve`) %>%\n",
    "                     mutate(target_class = as_factor(target_class))\n",
    "\n",
    "pulsar_split <- initial_split(pulsar_data, prop = 0.75, strata = target_class)  \n",
    "pulsar_train_tidy <- training(pulsar_split) \n",
    "pulsar_test_tidy <- testing(pulsar_split) \n",
    "\n",
    "head(pulsar_train_tidy)  \n",
    "head(pulsar_test_tidy)"
   ]
  },
  {
   "cell_type": "markdown",
   "metadata": {},
   "source": [
    "#### Summarize the data "
   ]
  },
  {
   "cell_type": "markdown",
   "metadata": {},
   "source": [
    "* Table 1 (summarizes all given predictors)"
   ]
  },
  {
   "cell_type": "code",
   "execution_count": 4,
   "metadata": {},
   "outputs": [],
   "source": [
    "# Gather necessary summary in this cell\n",
    "Col1 <- pulsar_train_tidy$integrated_profile_mean\n",
    "Col2 <- pulsar_train_tidy$integrated_profile_standard_deviation\n",
    "Col3 <- pulsar_train_tidy$integrated_profile_kurtosis\n",
    "Col4 <- pulsar_train_tidy$integrated_profile_skewness\n",
    "Col5 <- pulsar_train_tidy$DMSNR_curve_mean\n",
    "Col6 <- pulsar_train_tidy$DMSNR_curve_standard_deviation\n",
    "Col7 <- pulsar_train_tidy$DMSNR_curve_kurtosis\n",
    "Col8 <- pulsar_train_tidy$DMSNR_curve_skewness\n",
    "\n",
    "summary_column1 <- summary(Col1, na.rm = TRUE)\n",
    "summary_column2 <- summary(Col2, na.rm = TRUE)\n",
    "summary_column3 <- summary(Col3, na.rm = TRUE)\n",
    "summary_column4 <- summary(Col4, na.rm = TRUE)\n",
    "summary_column5 <- summary(Col5, na.rm = TRUE)\n",
    "summary_column6 <- summary(Col6, na.rm = TRUE)\n",
    "summary_column7 <- summary(Col7, na.rm = TRUE)\n",
    "summary_column8 <- summary(Col8, na.rm = TRUE)\n",
    "\n",
    "na_C1 <- sum(is.na(Col1))\n",
    "na_C2 <- sum(is.na(Col2))\n",
    "na_C3 <- sum(is.na(Col3))\n",
    "na_C4 <- sum(is.na(Col4))\n",
    "na_C5 <- sum(is.na(Col5))\n",
    "na_C6 <- sum(is.na(Col6))\n",
    "na_C7 <- sum(is.na(Col7))\n",
    "na_C8 <- sum(is.na(Col8))\n",
    "\n",
    "n_observation <- nrow(pulsar_train_tidy) "
   ]
  },
  {
   "cell_type": "code",
   "execution_count": 5,
   "metadata": {},
   "outputs": [
    {
     "data": {
      "text/html": [
       "<table>\n",
       "<caption>A data.frame: 8 × 9</caption>\n",
       "<thead>\n",
       "\t<tr><th scope=col>data_type</th><th scope=col>Minimun</th><th scope=col>Q1(25% percentile)</th><th scope=col>Median</th><th scope=col>Mean</th><th scope=col>Q3(75% percentile)</th><th scope=col>Maximun</th><th scope=col>number_of_NA</th><th scope=col>number_of_data</th></tr>\n",
       "\t<tr><th scope=col>&lt;chr&gt;</th><th scope=col>&lt;dbl&gt;</th><th scope=col>&lt;dbl&gt;</th><th scope=col>&lt;dbl&gt;</th><th scope=col>&lt;dbl&gt;</th><th scope=col>&lt;dbl&gt;</th><th scope=col>&lt;dbl&gt;</th><th scope=col>&lt;int&gt;</th><th scope=col>&lt;int&gt;</th></tr>\n",
       "</thead>\n",
       "<tbody>\n",
       "\t<tr><td>integrated_profile_mean              </td><td> 5.8125000</td><td>100.80273438</td><td>115.1796875</td><td>111.0312492</td><td>127.1093750</td><td> 189.734375</td><td>   0</td><td>9396</td></tr>\n",
       "\t<tr><td>integrated_profile_standard_deviation</td><td>24.7720418</td><td> 42.41396838</td><td> 46.9415641</td><td> 46.5581379</td><td> 51.0457319</td><td>  91.808628</td><td>   0</td><td>9396</td></tr>\n",
       "\t<tr><td>integrated_profile_kurtosis          </td><td>-1.7380208</td><td>  0.02404597</td><td>  0.2217711</td><td>  0.4816934</td><td>  0.4736437</td><td>   8.069522</td><td>1294</td><td>9396</td></tr>\n",
       "\t<tr><td>integrated_profile_skewness          </td><td>-1.7818883</td><td> -0.19036544</td><td>  0.2012008</td><td>  1.7973334</td><td>  0.9250845</td><td>  68.101622</td><td>   0</td><td>9396</td></tr>\n",
       "\t<tr><td>DMSNR_curve_mean                     </td><td> 0.2132107</td><td>  1.91116221</td><td>  2.7867893</td><td> 12.8923964</td><td>  5.5112876</td><td> 222.421405</td><td>   0</td><td>9396</td></tr>\n",
       "\t<tr><td>DMSNR_curve_standard_deviation       </td><td> 7.3704322</td><td> 14.40314701</td><td> 18.4194252</td><td> 26.4305454</td><td> 28.5857969</td><td> 110.642211</td><td> 894</td><td>9396</td></tr>\n",
       "\t<tr><td>DMSNR_curve_kurtosis                 </td><td>-3.1392696</td><td>  5.74475086</td><td>  8.4484346</td><td>  8.3231343</td><td> 10.7362074</td><td>  34.539844</td><td>   0</td><td>9396</td></tr>\n",
       "\t<tr><td>DMSNR_curve_skewness                 </td><td>-1.9769756</td><td> 34.34227439</td><td> 82.9567659</td><td>105.7723140</td><td>140.0339925</td><td>1191.000837</td><td> 485</td><td>9396</td></tr>\n",
       "</tbody>\n",
       "</table>\n"
      ],
      "text/latex": [
       "A data.frame: 8 × 9\n",
       "\\begin{tabular}{lllllllll}\n",
       " data\\_type & Minimun & Q1(25\\% percentile) & Median & Mean & Q3(75\\% percentile) & Maximun & number\\_of\\_NA & number\\_of\\_data\\\\\n",
       " <chr> & <dbl> & <dbl> & <dbl> & <dbl> & <dbl> & <dbl> & <int> & <int>\\\\\n",
       "\\hline\n",
       "\t integrated\\_profile\\_mean               &  5.8125000 & 100.80273438 & 115.1796875 & 111.0312492 & 127.1093750 &  189.734375 &    0 & 9396\\\\\n",
       "\t integrated\\_profile\\_standard\\_deviation & 24.7720418 &  42.41396838 &  46.9415641 &  46.5581379 &  51.0457319 &   91.808628 &    0 & 9396\\\\\n",
       "\t integrated\\_profile\\_kurtosis           & -1.7380208 &   0.02404597 &   0.2217711 &   0.4816934 &   0.4736437 &    8.069522 & 1294 & 9396\\\\\n",
       "\t integrated\\_profile\\_skewness           & -1.7818883 &  -0.19036544 &   0.2012008 &   1.7973334 &   0.9250845 &   68.101622 &    0 & 9396\\\\\n",
       "\t DMSNR\\_curve\\_mean                      &  0.2132107 &   1.91116221 &   2.7867893 &  12.8923964 &   5.5112876 &  222.421405 &    0 & 9396\\\\\n",
       "\t DMSNR\\_curve\\_standard\\_deviation        &  7.3704322 &  14.40314701 &  18.4194252 &  26.4305454 &  28.5857969 &  110.642211 &  894 & 9396\\\\\n",
       "\t DMSNR\\_curve\\_kurtosis                  & -3.1392696 &   5.74475086 &   8.4484346 &   8.3231343 &  10.7362074 &   34.539844 &    0 & 9396\\\\\n",
       "\t DMSNR\\_curve\\_skewness                  & -1.9769756 &  34.34227439 &  82.9567659 & 105.7723140 & 140.0339925 & 1191.000837 &  485 & 9396\\\\\n",
       "\\end{tabular}\n"
      ],
      "text/markdown": [
       "\n",
       "A data.frame: 8 × 9\n",
       "\n",
       "| data_type &lt;chr&gt; | Minimun &lt;dbl&gt; | Q1(25% percentile) &lt;dbl&gt; | Median &lt;dbl&gt; | Mean &lt;dbl&gt; | Q3(75% percentile) &lt;dbl&gt; | Maximun &lt;dbl&gt; | number_of_NA &lt;int&gt; | number_of_data &lt;int&gt; |\n",
       "|---|---|---|---|---|---|---|---|---|\n",
       "| integrated_profile_mean               |  5.8125000 | 100.80273438 | 115.1796875 | 111.0312492 | 127.1093750 |  189.734375 |    0 | 9396 |\n",
       "| integrated_profile_standard_deviation | 24.7720418 |  42.41396838 |  46.9415641 |  46.5581379 |  51.0457319 |   91.808628 |    0 | 9396 |\n",
       "| integrated_profile_kurtosis           | -1.7380208 |   0.02404597 |   0.2217711 |   0.4816934 |   0.4736437 |    8.069522 | 1294 | 9396 |\n",
       "| integrated_profile_skewness           | -1.7818883 |  -0.19036544 |   0.2012008 |   1.7973334 |   0.9250845 |   68.101622 |    0 | 9396 |\n",
       "| DMSNR_curve_mean                      |  0.2132107 |   1.91116221 |   2.7867893 |  12.8923964 |   5.5112876 |  222.421405 |    0 | 9396 |\n",
       "| DMSNR_curve_standard_deviation        |  7.3704322 |  14.40314701 |  18.4194252 |  26.4305454 |  28.5857969 |  110.642211 |  894 | 9396 |\n",
       "| DMSNR_curve_kurtosis                  | -3.1392696 |   5.74475086 |   8.4484346 |   8.3231343 |  10.7362074 |   34.539844 |    0 | 9396 |\n",
       "| DMSNR_curve_skewness                  | -1.9769756 |  34.34227439 |  82.9567659 | 105.7723140 | 140.0339925 | 1191.000837 |  485 | 9396 |\n",
       "\n"
      ],
      "text/plain": [
       "  data_type                             Minimun    Q1(25% percentile)\n",
       "1 integrated_profile_mean                5.8125000 100.80273438      \n",
       "2 integrated_profile_standard_deviation 24.7720418  42.41396838      \n",
       "3 integrated_profile_kurtosis           -1.7380208   0.02404597      \n",
       "4 integrated_profile_skewness           -1.7818883  -0.19036544      \n",
       "5 DMSNR_curve_mean                       0.2132107   1.91116221      \n",
       "6 DMSNR_curve_standard_deviation         7.3704322  14.40314701      \n",
       "7 DMSNR_curve_kurtosis                  -3.1392696   5.74475086      \n",
       "8 DMSNR_curve_skewness                  -1.9769756  34.34227439      \n",
       "  Median      Mean        Q3(75% percentile) Maximun     number_of_NA\n",
       "1 115.1796875 111.0312492 127.1093750         189.734375    0        \n",
       "2  46.9415641  46.5581379  51.0457319          91.808628    0        \n",
       "3   0.2217711   0.4816934   0.4736437           8.069522 1294        \n",
       "4   0.2012008   1.7973334   0.9250845          68.101622    0        \n",
       "5   2.7867893  12.8923964   5.5112876         222.421405    0        \n",
       "6  18.4194252  26.4305454  28.5857969         110.642211  894        \n",
       "7   8.4484346   8.3231343  10.7362074          34.539844    0        \n",
       "8  82.9567659 105.7723140 140.0339925        1191.000837  485        \n",
       "  number_of_data\n",
       "1 9396          \n",
       "2 9396          \n",
       "3 9396          \n",
       "4 9396          \n",
       "5 9396          \n",
       "6 9396          \n",
       "7 9396          \n",
       "8 9396          "
      ]
     },
     "metadata": {},
     "output_type": "display_data"
    }
   ],
   "source": [
    "# Create summary table for predictors with 5 number summary, number of NA's and total observations. \n",
    "\n",
    "row_part1 <- data.frame(rbind(summary_column1,summary_column2, summary_column4, summary_column5 ,summary_column7))\n",
    "row_part2 <- select(data.frame(rbind(summary_column3,summary_column6,summary_column8)), -NA.s)\n",
    "predictors_summary <- rbind(row_part1, row_part2)\n",
    "\n",
    "predictors_table <- setNames(cbind(rownames(predictors_summary), predictors_summary, row.names = NULL), \n",
    "         c(\"data_type\", \"Minimun\", \"Q1(25% percentile)\",\n",
    "           \"Median\", \"Mean\", \"Q3(75% percentile)\", \"Maximun\")) %>% #Add name to first column\n",
    "         mutate(n = c(1,2,4,5,7,3,6,8)) %>%\n",
    "         arrange(n) %>%\n",
    "         mutate(data_type = c(\"integrated_profile_mean\",\"integrated_profile_standard_deviation\",\"integrated_profile_kurtosis\",\n",
    "                              \"integrated_profile_skewness\",\"DMSNR_curve_mean\",\"DMSNR_curve_standard_deviation\",\n",
    "                              \"DMSNR_curve_kurtosis\",\"DMSNR_curve_skewness\")) %>%\n",
    "         mutate(number_of_NA = c(na_C1,na_C2,na_C3,na_C4,na_C5,na_C6,na_C7,na_C8)) %>%  #add NA information\n",
    "         mutate(number_of_data = c(n_observation)) %>% #add number of observations\n",
    "         select(-n) #remove useless column\n",
    "predictors_table"
   ]
  },
  {
   "cell_type": "markdown",
   "metadata": {},
   "source": [
    "* Table 2 (Summary the target_class)"
   ]
  },
  {
   "cell_type": "code",
   "execution_count": 6,
   "metadata": {},
   "outputs": [
    {
     "name": "stderr",
     "output_type": "stream",
     "text": [
      "`summarise()` ungrouping output (override with `.groups` argument)\n",
      "\n"
     ]
    },
    {
     "data": {
      "text/html": [
       "<table>\n",
       "<caption>A tibble: 2 × 3</caption>\n",
       "<thead>\n",
       "\t<tr><th scope=col>target_class</th><th scope=col>count</th><th scope=col>type</th></tr>\n",
       "\t<tr><th scope=col>&lt;fct&gt;</th><th scope=col>&lt;int&gt;</th><th scope=col>&lt;chr&gt;</th></tr>\n",
       "</thead>\n",
       "<tbody>\n",
       "\t<tr><td>0</td><td>8511</td><td>non-pulsar</td></tr>\n",
       "\t<tr><td>1</td><td> 885</td><td>pulsar    </td></tr>\n",
       "</tbody>\n",
       "</table>\n"
      ],
      "text/latex": [
       "A tibble: 2 × 3\n",
       "\\begin{tabular}{lll}\n",
       " target\\_class & count & type\\\\\n",
       " <fct> & <int> & <chr>\\\\\n",
       "\\hline\n",
       "\t 0 & 8511 & non-pulsar\\\\\n",
       "\t 1 &  885 & pulsar    \\\\\n",
       "\\end{tabular}\n"
      ],
      "text/markdown": [
       "\n",
       "A tibble: 2 × 3\n",
       "\n",
       "| target_class &lt;fct&gt; | count &lt;int&gt; | type &lt;chr&gt; |\n",
       "|---|---|---|\n",
       "| 0 | 8511 | non-pulsar |\n",
       "| 1 |  885 | pulsar     |\n",
       "\n"
      ],
      "text/plain": [
       "  target_class count type      \n",
       "1 0            8511  non-pulsar\n",
       "2 1             885  pulsar    "
      ]
     },
     "metadata": {},
     "output_type": "display_data"
    }
   ],
   "source": [
    "#Get information about Target class for number of pulsar and non-pulsar\n",
    "class_table <- group_by(pulsar_train_tidy, target_class) %>%\n",
    "               summarize(count=n())\n",
    "name <- c(\"non-pulsar\", \"pulsar\")\n",
    "class_table$type <- name\n",
    "class_table"
   ]
  },
  {
   "cell_type": "markdown",
   "metadata": {},
   "source": [
    "#### Visualize the data"
   ]
  },
  {
   "cell_type": "markdown",
   "metadata": {},
   "source": [
    "* Plot 1 (counts of each type of star)"
   ]
  },
  {
   "cell_type": "code",
   "execution_count": 7,
   "metadata": {},
   "outputs": [
    {
     "data": {
      "image/png": "[encoded data removed]",
      "text/plain": [
       "plot without title"
      ]
     },
     "metadata": {
      "image/png": {
       "height": 480,
       "width": 480
      }
     },
     "output_type": "display_data"
    }
   ],
   "source": [
    "#The chart below visualizes the table above, about the number of pulsar and non-pulsar star.\n",
    "\n",
    "options(repr.plot.width = 8, repr.plot.height = 8) \n",
    "Class_counts_chart <- ggplot(class_table, aes(x = type, y = count, fill = type))+\n",
    "geom_bar(stat = \"identity\")+\n",
    "ggtitle(\"Figure 1: Counts of each type of star\")+\n",
    "labs(x = \"Type of stars\", y = \"Counts of each type\", fill = \"Target Class\")+\n",
    "theme(text = element_text(size = 20))\n",
    "Class_counts_chart"
   ]
  },
  {
   "cell_type": "markdown",
   "metadata": {},
   "source": [
    "From the bar chart above, we can see that there are much more non-pulsar stars than pulsar stars, which gives us a general idea about the scale of the number of the stars. Also, it will influence our choice of models to predict the target class."
   ]
  },
  {
   "cell_type": "markdown",
   "metadata": {},
   "source": [
    "* (Scatterplot about variables related to integrated profile, colored by class)"
   ]
  },
  {
   "cell_type": "code",
   "execution_count": 8,
   "metadata": {},
   "outputs": [
    {
     "data": {
      "image/png": "[encoded data removed]",
      "text/plain": [
       "plot without title"
      ]
     },
     "metadata": {
      "image/png": {
       "height": 480,
       "width": 600
      }
     },
     "output_type": "display_data"
    }
   ],
   "source": [
    "options(repr.plot.width = 10, repr.plot.height = 8)\n",
    "Integrated_profile_plot_1 <- ggplot(pulsar_train_tidy, \n",
    "            aes(x = integrated_profile_mean, y = integrated_profile_standard_deviation, colour = target_class, shape = target_class))+\n",
    "geom_point()+\n",
    "ggtitle(\"Figure 2: Mean VS Standard deviation for integrated profile\")+\n",
    "labs(x = \"Mean from integrated profile\", y = \"Standard deviation from integrated profile\", colour = \"Target Class\", shape = \"Target Class\")+\n",
    "theme(text = element_text(size = 14))\n",
    "Integrated_profile_plot_1                      "
   ]
  },
  {
   "cell_type": "markdown",
   "metadata": {},
   "source": [
    "From the scatter plot above, it is abvious that these two types of stars have very different distribution: non-pulsar stars have mostly greater means and standard deviations than pulsar stars, which can be a very crucial way for us to predict the target class. That is saying, if we are provided a star with a very high mean and standard deviation in integrated profile, there is a big chance that it is a non-pulsar star."
   ]
  },
  {
   "cell_type": "code",
   "execution_count": 9,
   "metadata": {},
   "outputs": [
    {
     "ename": "ERROR",
     "evalue": "Error in plot_grid(Integrated_profile_plot_1, Integrated_profile_plot_2, : could not find function \"plot_grid\"\n",
     "output_type": "error",
     "traceback": [
      "Error in plot_grid(Integrated_profile_plot_1, Integrated_profile_plot_2, : could not find function \"plot_grid\"\nTraceback:\n"
     ]
    }
   ],
   "source": [
    "options(repr.plot.width = 12, repr.plot.height = 12)\n",
    "\n",
    "Integrated_profile_plot_2 <- ggplot(pulsar_train_tidy,aes(x = integrated_profile_kurtosis, y = integrated_profile_skewness, color = target_class))+\n",
    "geom_point()+\n",
    "ggtitle(\"Figure 3: Kurtosis from integrated profile VS Skewness from integrated profile\")+\n",
    "labs(x = \"Kurtosis from integrated profile\", y = \"Skewness from integrated profile\", color = \"Target Class\")+\n",
    "theme(text = element_text(size = 14))\n",
    "\n",
    "\n",
    "DMSNR_curve_plot_1 <- ggplot(pulsar_train_tidy,aes(x = DMSNR_curve_mean, y = DMSNR_curve_standard_deviation, color = target_class))+\n",
    "geom_point()+\n",
    "ggtitle(\"Figure 4: Means from DMSNR curve VS Standard deviation from DMSNR curve\")+\n",
    "labs(x = \"Means from DMSNR curve\", y = \"Standard deviation from DMSNR curve\", color = \"Target Class\")+\n",
    "theme(text = element_text(size = 14))\n",
    "\n",
    "\n",
    "DMSNR_curve_plot_2 <- ggplot(pulsar_train_tidy,aes(x = DMSNR_curve_kurtosis, y = DMSNR_curve_skewness, color = target_class))+\n",
    "geom_point()+\n",
    "ggtitle(\"Figure 5: Kurtosis from DMSNR curve VS Skewness from DMSNR curve\")+\n",
    "labs(x = \"Kurtosis from DMSNR curve\", y = \"Skewness from DMSNR curve\", color = \"Target Class\")+\n",
    "theme(text = element_text(size = 14))\n",
    "\n",
    "plot_grid(Integrated_profile_plot_1, Integrated_profile_plot_2, DMSNR_curve_plot_1, DMSNR_curve_plot_2, ncol = 2)"
   ]
  },
  {
   "cell_type": "markdown",
   "metadata": {},
   "source": [
    "From the scatter plots above, we can see that the means and standard deviation, the kurtosis and skewness from the integrated profile have a clear distribution, while those from the DMSNR curve do not have a very obvious distribution. So we chose the four variables from the integrated profile as our predictors."
   ]
  },
  {
   "cell_type": "markdown",
   "metadata": {},
   "source": [
    "## Section 3: Methods"
   ]
  },
  {
   "cell_type": "markdown",
   "metadata": {},
   "source": [
    "#### Exploration\n",
    "In this project, we will use classification to predict the unknown class of a star by observed variables. The first step of this data analysis is to perform exploratory analysis. To begin, we load the data and inspect it’s contents. The source provided already split training and testing sets, but after loading we can see that the testing data does not contain any class labels, and cannot be used for evaluating accuracy. Thus, we’ve decided to discard the provided testing set and treat the training set as the complete set of data, which we will split and wrangle.\n",
    "\n",
    "To clean the data, we renamed the columns into more usable names and changed the target class into a factor, as it will be used as a categorical statistical variable. We’ve split the data into 75% training and 25% testing to ensure there is enough data to perform the cross validation and evaluation of accuracy necessary for a classification analysis.\n",
    "\n",
    "Next, we created summary tables for the predictor values and target class. For each predictor, we calculated mean, medium, maximum, and minimum values, and counted the number of NA’s and total observations. For the target class, we summarized the total count of each label, pulsar or non-pulsar. \n",
    "\n",
    "For visualizations, we created a bar graph of the counts of each label to give a better representation of the imbalance of classes. We also included a scatter plot of the predictors with the clearest pattern of divided classes, which are the standard deviation and mean of the integrated profile. For each predictor, we created a histogram of their observations. This displays the range, mean, and standard deviation of the values.\n",
    "\n",
    "#### Data Analysis\n",
    "To begin our data analysis, we will only work with our training data and selected predictor columns. Our data has already been split, and we removed the non-predictor columns and NA observations from both datasets. Since our dataset has an imbalance of classes, we rebalanced our data by replicating the observations for pulsar stars, the rarer class. \n",
    "\n",
    "Using the rebalanced training data, we developed a classifier using the tidymodels K-nearest algorithm. In this model, the parameter K determines how it will behave, and we need to find the value of K that produces the most accurate classifier. To do this, we first chose a range of K values to test for accuracy. We chose the range 1-30, skipping by 2, since we have 2 labels in the target class, and an odd number of neighbors ensures that there won’t be a tie for majority vote. \n",
    "\n",
    "Next, for each K value in the chosen range, we performed a 5-fold cross validation. In the cross validation, the training data will be split into five sections, one section is the validation set, and the remaining are recombined as the training set. Then a classifier for the K-value will be trained on the recombined training set, and used to predict the classes of the validation. This is done five times, and each section is used as the validation set once. Using these predictions, the accuracy of a K-value can be determined by averaging the prediction accuracy (percent of correct predictions out of total predictions made) of each fold. \n",
    "\n",
    "After the cross validation, we created a line graph that plotted each K-value against their estimated prediction accuracy. Based on the plot we determined the best K to be 17, and trained our classifier using this value. With this classifier, we performed a classification of the testing data, and calculated the accuracy to be 92.8%. \n",
    "\n",
    "Finally, to visualize our results, we displayed two scatter plots of the testing data with the best predictors on each axis. One is labeled by the actual classes, and the other by predictions."
   ]
  },
  {
   "cell_type": "markdown",
   "metadata": {},
   "source": [
    "## Section 4: Results"
   ]
  },
  {
   "cell_type": "markdown",
   "metadata": {},
   "source": [
    "#### Performing the data analysis"
   ]
  },
  {
   "cell_type": "markdown",
   "metadata": {},
   "source": [
    "Before we actually performing the training, we choose to first modify the data by choosing only the necessary predictors in training set, and removing all NA values in both training and testing set to avoid bugs in the code."
   ]
  },
  {
   "cell_type": "code",
   "execution_count": null,
   "metadata": {},
   "outputs": [],
   "source": [
    "pulsar_train_tidy_used <- select(pulsar_train_tidy, integrated_profile_mean,\n",
    "                                 integrated_profile_standard_deviation,\n",
    "                                 integrated_profile_kurtosis,integrated_profile_skewness,target_class) %>%\n",
    "          na.omit()\n",
    "pulsar_test_tidy <-  pulsar_test_tidy %>% na.omit()\n",
    "head(pulsar_train_tidy_used)\n",
    "head(pulsar_test_tidy)"
   ]
  },
  {
   "cell_type": "code",
   "execution_count": null,
   "metadata": {},
   "outputs": [],
   "source": [
    "#first find the best k value to use by performing 5-fold cross validation\n",
    "set.seed(100)\n",
    "\n",
    "recipe1 <- recipe(target_class ~ ., data = pulsar_train_tidy_used) %>%\n",
    "                          step_upsample(target_class,over_ratio = 1, skip = FALSE) %>%\n",
    "                          prep()\n",
    "rebalanced_pulsar <- recipe1 %>%\n",
    "                     bake(pulsar_train_tidy_used)\n",
    "\n",
    "pulsar_recipe <- recipe(target_class ~ ., data = rebalanced_pulsar) %>%\n",
    "                 step_scale(all_predictors()) %>%\n",
    "                 step_center(all_predictors())\n",
    "\n",
    "knn_spec <- nearest_neighbor(weight_func = \"rectangular\", \n",
    "                             neighbors = tune()) %>%\n",
    "  set_engine(\"kknn\") %>%\n",
    "  set_mode(\"classification\")\n",
    "\n",
    "gridvals <- tibble(neighbors = seq(from = 1, to = 30, by = 2))\n",
    "vfold <- vfold_cv(rebalanced_pulsar, v = 5, strata = target_class)\n",
    "\n",
    "pulsar_workflow <- workflow() %>% \n",
    "                add_recipe(pulsar_recipe) %>%\n",
    "                add_model(knn_spec) %>%\n",
    "                tune_grid(resamples = vfold, grid = gridvals)\n",
    "                \n",
    "\n",
    "accuracies <- pulsar_workflow %>%   \n",
    "      collect_metrics()%>%\n",
    "      filter(.metric == \"accuracy\") %>%\n",
    "      arrange(by = desc(mean))\n",
    "\n",
    "accuracies\n"
   ]
  },
  {
   "cell_type": "code",
   "execution_count": null,
   "metadata": {},
   "outputs": [],
   "source": [
    "options(repr.plot.width = 8, repr.plot.height = 8) \n",
    "accuracy_vs_k <- ggplot(accuracies, aes(x = neighbors, y = mean)) +\n",
    "  geom_point() +\n",
    "  geom_line() +\n",
    "  ggtitle(\"Figure 7: Plot of accuracy estimate versus number of neighbors for many K values\")+\n",
    "  labs(x = \"Neighbors\", y = \"Accuracy Estimate\") +\n",
    "  theme(text = element_text(size = 14))\n",
    "accuracy_vs_k"
   ]
  },
  {
   "cell_type": "markdown",
   "metadata": {},
   "source": [
    "Firstly, we choose to see only odd k values to avoid each group have same number of votes. Also, we did not chooes to use value greater than 30 since we would like to avoid underfitting. As we can see from the graph, the accuracy decreases as k increase when k is small. This implies that there is presence of uncertainty for small k. Therefore, I would choose k equals to 17 in this case since the accuracy is still good and there is much smaller uncertainty here. "
   ]
  },
  {
   "cell_type": "code",
   "execution_count": null,
   "metadata": {},
   "outputs": [],
   "source": [
    "#training the model with chosen k and getting accuracy from testing set.\n",
    "\n",
    "knn_spec_17 <- nearest_neighbor(weight_func = \"rectangular\", \n",
    "                             neighbors = 17) %>%\n",
    "  set_engine(\"kknn\") %>%\n",
    "  set_mode(\"classification\")\n",
    "pulsar_workflow <- workflow() %>% \n",
    "                add_recipe(pulsar_recipe) %>%\n",
    "                add_model(knn_spec_17) %>%\n",
    "                fit(data = rebalanced_pulsar)\n",
    "prediction <- pulsar_workflow %>%\n",
    "              predict(pulsar_test_tidy) %>%\n",
    "              bind_cols(pulsar_test_tidy) \n",
    "result <- prediction%>%\n",
    "              metrics(truth = target_class, estimate = .pred_class)\n",
    "result"
   ]
  },
  {
   "cell_type": "code",
   "execution_count": null,
   "metadata": {},
   "outputs": [],
   "source": [
    "# visualization of the analysis, and compare the test data with train data\n",
    "options(repr.plot.width = 20, repr.plot.height = 8)\n",
    "test_result_plot <- ggplot(pulsar_test_tidy, \n",
    "            aes(x = integrated_profile_mean, y = integrated_profile_standard_deviation, colour = target_class, shape = target_class))+\n",
    "geom_point()+\n",
    "ggtitle(\"Figure 8: Mean VS Standard deviation for integrated profile\")+\n",
    "labs(x = \"Mean from integrated profile\", y = \"Standard deviation from integrated profile\", colour = \"Target Class\", shape = \"Target Class\")+\n",
    "theme(text = element_text(size = 14))\n",
    "\n",
    "plot_grid(Integrated_profile_plot, test_result_plot) "
   ]
  },
  {
   "cell_type": "markdown",
   "metadata": {},
   "source": [
    "Figure 2 is the plot of mean vs standard deviation from integrated profile from the original dataset, showing how the target classes distributed in these two variables. Figure 8 is the plot of mean vs standard deviation from integrated profile from the testing subset, showing how the predicted target classes distributed in these two variables. "
   ]
  },
  {
   "cell_type": "markdown",
   "metadata": {},
   "source": [
    "## Section 5: Discussion"
   ]
  },
  {
   "cell_type": "markdown",
   "metadata": {},
   "source": [
    "Our model predicts unknown pulsar stars based on 17 nearest neighbors' values, and the accuracy of our model is 92.78%. Before we build the model, we expect that our model will correctly predict the class of the testing data majority of the time. The model turns out to be the same as what we expected. Since our model is accurate majority of the time, it can be used as a guide to help identify pulsars more efficiently since many detections of signals are actually caused by radio frequency interference (RFI) and noise, and real signals from pulsars are sometimes hard to find (Lyon et al., 2016). However, as the proportion of real pulsar data is relatively small compare to non-pulsar in our training set, a future question could be that can accuracy be improved by increasing the proportion of real-pulsar as this help our model know real-pulsar better?"
   ]
  },
  {
   "cell_type": "markdown",
   "metadata": {},
   "source": [
    "#### References\n",
    "Cofield, C. (2016, April 22). *What are pulsars?* Space.com. Retrieved November 6, 2021, from https://www.space.com/32661-pulsars.html. \n",
    "\n",
    "Lyon, R. J., Stappers, B. W., Cooper, S., Brooke, J. M., &amp; Knowles, J. D. (2016). *Fifty Years of     pulsar candidate selection: From simple filters to a new principled real-time classification approach.* Monthly Notices of the Royal Astronomical Society, 459(1), 1104–1123. https://doi.org/10.1093/mnras/stw656. \n",
    "\n",
    "Wikimedia Foundation. (2021, October 22). *Pulsar.* Wikipedia. Retrieved November 6, 2021, from https://en.wikipedia.org/wiki/Pulsar."
   ]
  },
  {
   "cell_type": "code",
   "execution_count": null,
   "metadata": {},
   "outputs": [],
   "source": []
  }
 ],
 "metadata": {
  "kernelspec": {
   "display_name": "R",
   "language": "R",
   "name": "ir"
  },
  "language_info": {
   "codemirror_mode": "r",
   "file_extension": ".r",
   "mimetype": "text/x-r-source",
   "name": "R",
   "pygments_lexer": "r",
   "version": "4.0.0"
  }
 },
 "nbformat": 4,
 "nbformat_minor": 4
}
